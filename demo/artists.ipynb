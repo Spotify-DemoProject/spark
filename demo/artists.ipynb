{
 "cells": [
  {
   "cell_type": "code",
   "execution_count": 1,
   "metadata": {},
   "outputs": [
    {
     "name": "stderr",
     "output_type": "stream",
     "text": [
      "23/12/30 17:09:55 WARN Utils: Your hostname, workspace resolves to a loopback address: 127.0.0.1; using 220.118.158.128 instead (on interface eno1)\n",
      "23/12/30 17:09:55 WARN Utils: Set SPARK_LOCAL_IP if you need to bind to another address\n",
      "Setting default log level to \"WARN\".\n",
      "To adjust logging level use sc.setLogLevel(newLevel). For SparkR, use setLogLevel(newLevel).\n",
      "23/12/30 17:09:57 WARN NativeCodeLoader: Unable to load native-hadoop library for your platform... using builtin-java classes where applicable\n"
     ]
    }
   ],
   "source": [
    "from pyspark import SparkConf, SparkContext\n",
    "from pyspark.sql import SparkSession\n",
    "\n",
    "conf = SparkConf().setAppName(\"\").setMaster(\"spark://workspace:7077\")\n",
    "sparkContext = SparkContext(conf=conf)\n",
    "spark = SparkSession(sparkContext=sparkContext)"
   ]
  },
  {
   "cell_type": "code",
   "execution_count": 2,
   "metadata": {},
   "outputs": [],
   "source": [
    "from pyspark.sql.functions import expr, explode, col"
   ]
  },
  {
   "cell_type": "code",
   "execution_count": 3,
   "metadata": {},
   "outputs": [],
   "source": [
    "json_dir = \"file:///home/hooniegit/git/Spotify-DemoProject/fastapi/data/artists/2023-12-29\""
   ]
  },
  {
   "cell_type": "code",
   "execution_count": 4,
   "metadata": {},
   "outputs": [
    {
     "name": "stderr",
     "output_type": "stream",
     "text": [
      "                                                                                \r"
     ]
    },
    {
     "name": "stdout",
     "output_type": "stream",
     "text": [
      "+--------------------+-------------+--------------------+--------------------+---------+\n",
      "|           artist_id|  artist_name|               genre|    artist_image_url|followers|\n",
      "+--------------------+-------------+--------------------+--------------------+---------+\n",
      "|3qsKSpcV3ncke3hw5...|   Young Miko|         trap latino|https://i.scdn.co...|  1946884|\n",
      "|3qsKSpcV3ncke3hw5...|   Young Miko|       urbano latino|https://i.scdn.co...|  1946884|\n",
      "|3kVUvbeRdcrqQ3oHk...|    GROUPLOVE|          indie rock|https://i.scdn.co...|  1156962|\n",
      "|3kVUvbeRdcrqQ3oHk...|    GROUPLOVE|            la indie|https://i.scdn.co...|  1156962|\n",
      "|3kVUvbeRdcrqQ3oHk...|    GROUPLOVE|modern alternativ...|https://i.scdn.co...|  1156962|\n",
      "|3kVUvbeRdcrqQ3oHk...|    GROUPLOVE|         modern rock|https://i.scdn.co...|  1156962|\n",
      "|3kVUvbeRdcrqQ3oHk...|    GROUPLOVE|          pov: indie|https://i.scdn.co...|  1156962|\n",
      "|3kVUvbeRdcrqQ3oHk...|    GROUPLOVE|    stomp and holler|https://i.scdn.co...|  1156962|\n",
      "|4B8u7XuCSCPhqrVoz...| Kemal Palevi|  indonesian hip hop|https://i.scdn.co...|    37144|\n",
      "|5fMUXHkw8R8eOP2RN...|        Diplo|           dance pop|https://i.scdn.co...|  2581254|\n",
      "|5fMUXHkw8R8eOP2RN...|        Diplo|                 edm|https://i.scdn.co...|  2581254|\n",
      "|5fMUXHkw8R8eOP2RN...|        Diplo|       electro house|https://i.scdn.co...|  2581254|\n",
      "|5fMUXHkw8R8eOP2RN...|        Diplo|          moombahton|https://i.scdn.co...|  2581254|\n",
      "|5fMUXHkw8R8eOP2RN...|        Diplo|           pop dance|https://i.scdn.co...|  2581254|\n",
      "|4p07QU02SrLsaORo2...|       Sammie|             hip pop|https://i.scdn.co...|   589771|\n",
      "|4p07QU02SrLsaORo2...|       Sammie|                 r&b|https://i.scdn.co...|   589771|\n",
      "|4p07QU02SrLsaORo2...|       Sammie|  urban contemporary|https://i.scdn.co...|   589771|\n",
      "|2NfwGBr2swqZ1rzE3...|Saucy Santana|          trap queen|https://i.scdn.co...|   218697|\n",
      "|3GxKJzJK4LpsYGXQr...|    Mimi Webb|               alt z|https://i.scdn.co...|   341362|\n",
      "|3GxKJzJK4LpsYGXQr...|    Mimi Webb|gen z singer-song...|https://i.scdn.co...|   341362|\n",
      "+--------------------+-------------+--------------------+--------------------+---------+\n",
      "only showing top 20 rows\n",
      "\n"
     ]
    }
   ],
   "source": [
    "df = spark.read.option(\"multiline\", \"true\").json(json_dir) \\\n",
    "    .select(explode('artists').alias('artists')) \\\n",
    "    .withColumn(\"image\", explode(expr(\"artists.images\"))) \\\n",
    "    .filter(col(\"image.height\") == 640) \\\n",
    "    .withColumn(\"artist_id\", expr(\"artists.id\")) \\\n",
    "    .withColumn(\"artist_name\", expr(\"artists.name\")) \\\n",
    "    .withColumn(\"genre\", explode(expr(\"artists.genres\"))) \\\n",
    "    .withColumn(\"followers\", expr(\"artists.followers.total\")) \\\n",
    "    .withColumn(\"artist_image_url\", expr(\"image.url\")) \\\n",
    "    .select(\"artist_id\", \"artist_name\", \"genre\", \"artist_image_url\", \"followers\")\n",
    "df.show()"
   ]
  },
  {
   "cell_type": "code",
   "execution_count": 5,
   "metadata": {},
   "outputs": [],
   "source": [
    "spark.stop()"
   ]
  }
 ],
 "metadata": {
  "kernelspec": {
   "display_name": "Python 3",
   "language": "python",
   "name": "python3"
  },
  "language_info": {
   "codemirror_mode": {
    "name": "ipython",
    "version": 3
   },
   "file_extension": ".py",
   "mimetype": "text/x-python",
   "name": "python",
   "nbconvert_exporter": "python",
   "pygments_lexer": "ipython3",
   "version": "3.10.12"
  },
  "orig_nbformat": 4
 },
 "nbformat": 4,
 "nbformat_minor": 2
}
