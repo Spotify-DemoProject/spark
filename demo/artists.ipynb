{
 "cells": [
  {
   "cell_type": "code",
   "execution_count": 19,
   "metadata": {},
   "outputs": [],
   "source": [
    "from pyspark import SparkConf, SparkContext\n",
    "from pyspark.sql import SparkSession\n",
    "\n",
    "conf = SparkConf().setAppName(\"\").setMaster(\"spark://workspace:7077\")\n",
    "sparkContext = SparkContext(conf=conf)\n",
    "spark = SparkSession(sparkContext=sparkContext)"
   ]
  },
  {
   "cell_type": "code",
   "execution_count": 20,
   "metadata": {},
   "outputs": [],
   "source": [
    "from pyspark.sql.functions import expr, explode, col"
   ]
  },
  {
   "cell_type": "code",
   "execution_count": 21,
   "metadata": {},
   "outputs": [],
   "source": [
    "json_dir = \"file:///home/hooniegit/git/Spotify-DemoProject/fastapi/data/artists/2023-12-25\""
   ]
  },
  {
   "cell_type": "code",
   "execution_count": 23,
   "metadata": {},
   "outputs": [
    {
     "name": "stderr",
     "output_type": "stream",
     "text": [
      "[Stage 5:=============================>                             (2 + 2) / 4]\r"
     ]
    },
    {
     "name": "stdout",
     "output_type": "stream",
     "text": [
      "+--------------------+-----------------+--------------------+--------------------+---------+\n",
      "|           artist_id|      artist_name|               genre|    artist_image_url|followers|\n",
      "+--------------------+-----------------+--------------------+--------------------+---------+\n",
      "|78x9aF0bqxXHn3noF...|            Gøggs|          garage pop|https://i.scdn.co...|    22464|\n",
      "|78x9aF0bqxXHn3noF...|            Gøggs|   indie garage rock|https://i.scdn.co...|    22464|\n",
      "|78x9aF0bqxXHn3noF...|            Gøggs|     neo-psychedelic|https://i.scdn.co...|    22464|\n",
      "|1lIG8lqWxus7LqThG...|Bernadette Peters|            broadway|https://i.scdn.co...|    55464|\n",
      "|1lIG8lqWxus7LqThG...|Bernadette Peters|           hollywood|https://i.scdn.co...|    55464|\n",
      "|1lIG8lqWxus7LqThG...|Bernadette Peters|          show tunes|https://i.scdn.co...|    55464|\n",
      "|1TiGxAkU8w0xBCVFO...|     Duo Dinamico|    cancion melodica|https://i.scdn.co...|   231512|\n",
      "|1TiGxAkU8w0xBCVFO...|     Duo Dinamico|       pop romantico|https://i.scdn.co...|   231512|\n",
      "|5PhWi4UkdjJYThzuo...|              OCS|modern psychedeli...|https://i.scdn.co...|    12968|\n",
      "|5PhWi4UkdjJYThzuo...|              OCS|     neo-psychedelic|https://i.scdn.co...|    12968|\n",
      "|4l1cKWYW591xnwEGx...|       Miike Snow|   alternative dance|https://i.scdn.co...|   628358|\n",
      "|4l1cKWYW591xnwEGx...|       Miike Snow|          electropop|https://i.scdn.co...|   628358|\n",
      "|4l1cKWYW591xnwEGx...|       Miike Snow|        indietronica|https://i.scdn.co...|   628358|\n",
      "|4l1cKWYW591xnwEGx...|       Miike Snow|        neo-synthpop|https://i.scdn.co...|   628358|\n",
      "|4l1cKWYW591xnwEGx...|       Miike Snow|         shimmer pop|https://i.scdn.co...|   628358|\n",
      "|4l1cKWYW591xnwEGx...|       Miike Snow|  swedish electropop|https://i.scdn.co...|   628358|\n",
      "|4l1cKWYW591xnwEGx...|       Miike Snow|   swedish indie pop|https://i.scdn.co...|   628358|\n",
      "|4l1cKWYW591xnwEGx...|       Miike Snow|    swedish synthpop|https://i.scdn.co...|   628358|\n",
      "|2a6TNADvz1rRCUfAc...|   The El Dorados|             doo-wop|https://i.scdn.co...|    14464|\n",
      "|2a6TNADvz1rRCUfAc...|   The El Dorados|    rhythm and blues|https://i.scdn.co...|    14464|\n",
      "+--------------------+-----------------+--------------------+--------------------+---------+\n",
      "only showing top 20 rows\n",
      "\n"
     ]
    },
    {
     "name": "stderr",
     "output_type": "stream",
     "text": [
      "                                                                                \r"
     ]
    }
   ],
   "source": [
    "df = spark.read.option(\"multiline\", \"true\").json(json_dir) \\\n",
    "    .withColumn(\"image\", explode(expr(\"images\"))) \\\n",
    "    .filter(col(\"image.height\") == 640) \\\n",
    "    .withColumn(\"artist_id\", expr(\"id\")) \\\n",
    "    .withColumn(\"artist_name\", expr(\"name\")) \\\n",
    "    .withColumn(\"genre\", explode(expr(\"genres\"))) \\\n",
    "    .withColumn(\"followers\", expr(\"followers.total\")) \\\n",
    "    .withColumn(\"artist_image_url\", expr(\"image.url\")) \\\n",
    "    .select(\"artist_id\", \"artist_name\", \"genre\", \"artist_image_url\", \"followers\")\n",
    "df.show()"
   ]
  },
  {
   "cell_type": "code",
   "execution_count": 18,
   "metadata": {},
   "outputs": [],
   "source": [
    "spark.stop()"
   ]
  }
 ],
 "metadata": {
  "kernelspec": {
   "display_name": "Python 3",
   "language": "python",
   "name": "python3"
  },
  "language_info": {
   "codemirror_mode": {
    "name": "ipython",
    "version": 3
   },
   "file_extension": ".py",
   "mimetype": "text/x-python",
   "name": "python",
   "nbconvert_exporter": "python",
   "pygments_lexer": "ipython3",
   "version": "3.12.1"
  },
  "orig_nbformat": 4
 },
 "nbformat": 4,
 "nbformat_minor": 2
}
