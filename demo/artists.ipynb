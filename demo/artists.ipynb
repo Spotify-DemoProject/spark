{
 "cells": [
  {
   "cell_type": "code",
   "execution_count": 2,
   "metadata": {},
   "outputs": [
    {
     "name": "stderr",
     "output_type": "stream",
     "text": [
      "24/01/05 16:26:56 WARN Utils: Your hostname, workspace resolves to a loopback address: 127.0.0.1; using 220.118.158.128 instead (on interface eno1)\n",
      "24/01/05 16:26:56 WARN Utils: Set SPARK_LOCAL_IP if you need to bind to another address\n",
      "Setting default log level to \"WARN\".\n",
      "To adjust logging level use sc.setLogLevel(newLevel). For SparkR, use setLogLevel(newLevel).\n",
      "24/01/05 16:26:57 WARN NativeCodeLoader: Unable to load native-hadoop library for your platform... using builtin-java classes where applicable\n"
     ]
    }
   ],
   "source": [
    "from pyspark import SparkConf, SparkContext\n",
    "from pyspark.sql import SparkSession\n",
    "\n",
    "conf = SparkConf().setAppName(\"\").setMaster(\"spark://workspace:7077\")\n",
    "sparkContext = SparkContext(conf=conf)\n",
    "spark = SparkSession(sparkContext=sparkContext)"
   ]
  },
  {
   "cell_type": "code",
   "execution_count": 3,
   "metadata": {},
   "outputs": [],
   "source": [
    "from pyspark.sql.functions import expr, explode, col"
   ]
  },
  {
   "cell_type": "code",
   "execution_count": 4,
   "metadata": {},
   "outputs": [],
   "source": [
    "json_dir = \"file:///home/hooniegit/git/Spotify-DemoProject/fastapi/data/artists/2023-12-29\""
   ]
  },
  {
   "cell_type": "code",
   "execution_count": 5,
   "metadata": {},
   "outputs": [
    {
     "name": "stderr",
     "output_type": "stream",
     "text": [
      "                                                                                \r"
     ]
    },
    {
     "name": "stdout",
     "output_type": "stream",
     "text": [
      "root\n",
      " |-- artists: array (nullable = true)\n",
      " |    |-- element: struct (containsNull = true)\n",
      " |    |    |-- external_urls: struct (nullable = true)\n",
      " |    |    |    |-- spotify: string (nullable = true)\n",
      " |    |    |-- followers: struct (nullable = true)\n",
      " |    |    |    |-- href: string (nullable = true)\n",
      " |    |    |    |-- total: long (nullable = true)\n",
      " |    |    |-- genres: array (nullable = true)\n",
      " |    |    |    |-- element: string (containsNull = true)\n",
      " |    |    |-- href: string (nullable = true)\n",
      " |    |    |-- id: string (nullable = true)\n",
      " |    |    |-- images: array (nullable = true)\n",
      " |    |    |    |-- element: struct (containsNull = true)\n",
      " |    |    |    |    |-- height: long (nullable = true)\n",
      " |    |    |    |    |-- url: string (nullable = true)\n",
      " |    |    |    |    |-- width: long (nullable = true)\n",
      " |    |    |-- name: string (nullable = true)\n",
      " |    |    |-- popularity: long (nullable = true)\n",
      " |    |    |-- type: string (nullable = true)\n",
      " |    |    |-- uri: string (nullable = true)\n",
      "\n"
     ]
    }
   ],
   "source": [
    "df = spark.read.option(\"multiline\", \"true\").json(json_dir)\n",
    "df.printSchema()"
   ]
  },
  {
   "cell_type": "code",
   "execution_count": 6,
   "metadata": {},
   "outputs": [
    {
     "name": "stderr",
     "output_type": "stream",
     "text": [
      "                                                                                \r"
     ]
    },
    {
     "name": "stdout",
     "output_type": "stream",
     "text": [
      "+--------------------+-------------+----------+---------+--------------------+--------------------+\n",
      "|                  id|         name|popularity|followers|           image_url|               genre|\n",
      "+--------------------+-------------+----------+---------+--------------------+--------------------+\n",
      "|3qsKSpcV3ncke3hw5...|   Young Miko|        81|  1946884|https://i.scdn.co...|         trap latino|\n",
      "|3qsKSpcV3ncke3hw5...|   Young Miko|        81|  1946884|https://i.scdn.co...|       urbano latino|\n",
      "|3kVUvbeRdcrqQ3oHk...|    GROUPLOVE|        62|  1156962|https://i.scdn.co...|          indie rock|\n",
      "|3kVUvbeRdcrqQ3oHk...|    GROUPLOVE|        62|  1156962|https://i.scdn.co...|            la indie|\n",
      "|3kVUvbeRdcrqQ3oHk...|    GROUPLOVE|        62|  1156962|https://i.scdn.co...|modern alternativ...|\n",
      "|3kVUvbeRdcrqQ3oHk...|    GROUPLOVE|        62|  1156962|https://i.scdn.co...|         modern rock|\n",
      "|3kVUvbeRdcrqQ3oHk...|    GROUPLOVE|        62|  1156962|https://i.scdn.co...|          pov: indie|\n",
      "|3kVUvbeRdcrqQ3oHk...|    GROUPLOVE|        62|  1156962|https://i.scdn.co...|    stomp and holler|\n",
      "|4B8u7XuCSCPhqrVoz...| Kemal Palevi|        24|    37144|https://i.scdn.co...|  indonesian hip hop|\n",
      "|5fMUXHkw8R8eOP2RN...|        Diplo|        76|  2581254|https://i.scdn.co...|           dance pop|\n",
      "|5fMUXHkw8R8eOP2RN...|        Diplo|        76|  2581254|https://i.scdn.co...|                 edm|\n",
      "|5fMUXHkw8R8eOP2RN...|        Diplo|        76|  2581254|https://i.scdn.co...|       electro house|\n",
      "|5fMUXHkw8R8eOP2RN...|        Diplo|        76|  2581254|https://i.scdn.co...|          moombahton|\n",
      "|5fMUXHkw8R8eOP2RN...|        Diplo|        76|  2581254|https://i.scdn.co...|           pop dance|\n",
      "|4p07QU02SrLsaORo2...|       Sammie|        60|   589771|https://i.scdn.co...|             hip pop|\n",
      "|4p07QU02SrLsaORo2...|       Sammie|        60|   589771|https://i.scdn.co...|                 r&b|\n",
      "|4p07QU02SrLsaORo2...|       Sammie|        60|   589771|https://i.scdn.co...|  urban contemporary|\n",
      "|2NfwGBr2swqZ1rzE3...|Saucy Santana|        49|   218697|https://i.scdn.co...|          trap queen|\n",
      "|3GxKJzJK4LpsYGXQr...|    Mimi Webb|        64|   341362|https://i.scdn.co...|               alt z|\n",
      "|3GxKJzJK4LpsYGXQr...|    Mimi Webb|        64|   341362|https://i.scdn.co...|gen z singer-song...|\n",
      "+--------------------+-------------+----------+---------+--------------------+--------------------+\n",
      "only showing top 20 rows\n",
      "\n"
     ]
    }
   ],
   "source": [
    "df = spark.read.option(\"multiline\", \"true\").json(json_dir) \\\n",
    "    .withColumn(\"artists\", explode(\"artists\")) \\\n",
    "    .withColumn(\"images\", explode(\"artists.images\")) \\\n",
    "    .filter(\"images.height == 640\") \\\n",
    "    .selectExpr(\n",
    "        \"artists.id\",\n",
    "        \"artists.name\",\n",
    "        \"artists.popularity\",\n",
    "        \"artists.followers.total as followers\",\n",
    "        \"images.url as image_url\",\n",
    "        \"explode(artists.genres) as genre\"\n",
    "    )\n",
    "\n",
    "df.show()"
   ]
  },
  {
   "cell_type": "code",
   "execution_count": 37,
   "metadata": {},
   "outputs": [
    {
     "name": "stdout",
     "output_type": "stream",
     "text": [
      "+--------------------+-------------+--------------------+--------------------+---------+\n",
      "|           artist_id|  artist_name|               genre|    artist_image_url|followers|\n",
      "+--------------------+-------------+--------------------+--------------------+---------+\n",
      "|3qsKSpcV3ncke3hw5...|   Young Miko|         trap latino|https://i.scdn.co...|  1946884|\n",
      "|3qsKSpcV3ncke3hw5...|   Young Miko|       urbano latino|https://i.scdn.co...|  1946884|\n",
      "|3kVUvbeRdcrqQ3oHk...|    GROUPLOVE|          indie rock|https://i.scdn.co...|  1156962|\n",
      "|3kVUvbeRdcrqQ3oHk...|    GROUPLOVE|            la indie|https://i.scdn.co...|  1156962|\n",
      "|3kVUvbeRdcrqQ3oHk...|    GROUPLOVE|modern alternativ...|https://i.scdn.co...|  1156962|\n",
      "|3kVUvbeRdcrqQ3oHk...|    GROUPLOVE|         modern rock|https://i.scdn.co...|  1156962|\n",
      "|3kVUvbeRdcrqQ3oHk...|    GROUPLOVE|          pov: indie|https://i.scdn.co...|  1156962|\n",
      "|3kVUvbeRdcrqQ3oHk...|    GROUPLOVE|    stomp and holler|https://i.scdn.co...|  1156962|\n",
      "|4B8u7XuCSCPhqrVoz...| Kemal Palevi|  indonesian hip hop|https://i.scdn.co...|    37144|\n",
      "|5fMUXHkw8R8eOP2RN...|        Diplo|           dance pop|https://i.scdn.co...|  2581254|\n",
      "|5fMUXHkw8R8eOP2RN...|        Diplo|                 edm|https://i.scdn.co...|  2581254|\n",
      "|5fMUXHkw8R8eOP2RN...|        Diplo|       electro house|https://i.scdn.co...|  2581254|\n",
      "|5fMUXHkw8R8eOP2RN...|        Diplo|          moombahton|https://i.scdn.co...|  2581254|\n",
      "|5fMUXHkw8R8eOP2RN...|        Diplo|           pop dance|https://i.scdn.co...|  2581254|\n",
      "|4p07QU02SrLsaORo2...|       Sammie|             hip pop|https://i.scdn.co...|   589771|\n",
      "|4p07QU02SrLsaORo2...|       Sammie|                 r&b|https://i.scdn.co...|   589771|\n",
      "|4p07QU02SrLsaORo2...|       Sammie|  urban contemporary|https://i.scdn.co...|   589771|\n",
      "|2NfwGBr2swqZ1rzE3...|Saucy Santana|          trap queen|https://i.scdn.co...|   218697|\n",
      "|3GxKJzJK4LpsYGXQr...|    Mimi Webb|               alt z|https://i.scdn.co...|   341362|\n",
      "|3GxKJzJK4LpsYGXQr...|    Mimi Webb|gen z singer-song...|https://i.scdn.co...|   341362|\n",
      "+--------------------+-------------+--------------------+--------------------+---------+\n",
      "only showing top 20 rows\n",
      "\n"
     ]
    }
   ],
   "source": [
    "df_3 = df \\\n",
    "    .select(explode('artists').alias('artists')) \\\n",
    "    .withColumn(\"image\", explode(\"artists.images\")) \\\n",
    "    .filter(\"image.height == 640\") \\\n",
    "    .withColumn(\"artist_id\", expr(\"artists.id\")) \\\n",
    "    .withColumn(\"artist_name\", expr(\"artists.name\")) \\\n",
    "    .withColumn(\"genre\", explode(\"artists.genres\")) \\\n",
    "    .withColumn(\"followers\", expr(\"artists.followers.total\")) \\\n",
    "    .withColumn(\"artist_image_url\", expr(\"image.url\")) \\\n",
    "    .select(\"artist_id\", \"artist_name\", \"genre\", \"artist_image_url\", \"followers\")\n",
    "df_3.show()"
   ]
  },
  {
   "cell_type": "code",
   "execution_count": null,
   "metadata": {},
   "outputs": [],
   "source": [
    "df_3 = df \\\n",
    "    .select(explode('artists').alias('artists')) \\\n",
    "    .withColumn(\"image\", explode(\"artists.images\")) \\\n",
    "    .filter(\"image.height == 640\") \\\n",
    "    .selectExpr(\n",
    "    \"artists.id as artist_id\",\n",
    "    \"artists.name as artist_name\",\n",
    "    \"explode(artists.genres) as genre\",\n",
    "    \"artists.followers.total as followers\",\n",
    "    \"image.url as artist_image_url\"\n",
    "    )\n",
    "\n",
    "df_3.show()    \n"
   ]
  },
  {
   "cell_type": "code",
   "execution_count": 5,
   "metadata": {},
   "outputs": [],
   "source": [
    "spark.stop()"
   ]
  }
 ],
 "metadata": {
  "kernelspec": {
   "display_name": "Python 3",
   "language": "python",
   "name": "python3"
  },
  "language_info": {
   "codemirror_mode": {
    "name": "ipython",
    "version": 3
   },
   "file_extension": ".py",
   "mimetype": "text/x-python",
   "name": "python",
   "nbconvert_exporter": "python",
   "pygments_lexer": "ipython3",
   "version": "3.10.12"
  },
  "orig_nbformat": 4
 },
 "nbformat": 4,
 "nbformat_minor": 2
}
