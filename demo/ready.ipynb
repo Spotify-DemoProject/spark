{
 "cells": [
  {
   "cell_type": "code",
   "execution_count": 1,
   "metadata": {},
   "outputs": [
    {
     "name": "stderr",
     "output_type": "stream",
     "text": [
      "23/12/30 17:56:04 WARN Utils: Your hostname, workspace resolves to a loopback address: 127.0.0.1; using 220.118.158.128 instead (on interface eno1)\n",
      "23/12/30 17:56:04 WARN Utils: Set SPARK_LOCAL_IP if you need to bind to another address\n",
      "Setting default log level to \"WARN\".\n",
      "To adjust logging level use sc.setLogLevel(newLevel). For SparkR, use setLogLevel(newLevel).\n",
      "23/12/30 17:56:06 WARN NativeCodeLoader: Unable to load native-hadoop library for your platform... using builtin-java classes where applicable\n"
     ]
    }
   ],
   "source": [
    "from pyspark import SparkConf, SparkContext\n",
    "from pyspark.sql import SparkSession\n",
    "\n",
    "conf = SparkConf().setAppName(\"\").setMaster(\"spark://workspace:7077\")\n",
    "sparkContext = SparkContext(conf=conf)\n",
    "spark = SparkSession(sparkContext=sparkContext)"
   ]
  },
  {
   "cell_type": "code",
   "execution_count": 6,
   "metadata": {},
   "outputs": [],
   "source": [
    "parquet_dir = f\"file:///home/hooniegit/git/Spotify-DemoProject/spark/data/parquet/albums/2023-12-29\""
   ]
  },
  {
   "cell_type": "code",
   "execution_count": 7,
   "metadata": {},
   "outputs": [
    {
     "name": "stderr",
     "output_type": "stream",
     "text": [
      "[Stage 7:=======================================>                   (2 + 1) / 3]\r"
     ]
    },
    {
     "name": "stdout",
     "output_type": "stream",
     "text": [
      "+--------------------+--------------------+--------------------+-----------+--------------------+--------------------+--------------------+--------------------+------------+-----------+-----------+--------+------------+------------+\n",
      "|            album_id|          album_name|           artist_id| album_type|               label|     album_image_url|            track_id|          track_name|track_number|disc_number|duration_ms|explicit|release_date|total_tracks|\n",
      "+--------------------+--------------------+--------------------+-----------+--------------------+--------------------+--------------------+--------------------+------------+-----------+-----------+--------+------------+------------+\n",
      "|6Bi5Q5VIzGz0c6zat...|Victoria's Secret...|0LyfQWJT6nXafLPZq...|compilation|Warner Music Grou...|https://i.scdn.co...|4FU8T0t7YASGlMaA8...|   Victoria's Secret|           1|          1|     176124|    true|  2022-09-16|          50|\n",
      "|6Bi5Q5VIzGz0c6zat...|Victoria's Secret...|0LyfQWJT6nXafLPZq...|compilation|Warner Music Grou...|https://i.scdn.co...|6QEv2OySmn8WAjTlH...|      Left and Right|           2|          1|     154486|   false|  2022-09-16|          50|\n",
      "|6Bi5Q5VIzGz0c6zat...|Victoria's Secret...|0LyfQWJT6nXafLPZq...|compilation|Warner Music Grou...|https://i.scdn.co...|5xBgTb41fF3Pa7KLP...|     About Damn Time|           3|          1|     191822|    true|  2022-09-16|          50|\n",
      "|6Bi5Q5VIzGz0c6zat...|Victoria's Secret...|0LyfQWJT6nXafLPZq...|compilation|Warner Music Grou...|https://i.scdn.co...|1cAoRkY0VTnUmFGPq...|        In the Stars|           4|          1|     216410|   false|  2022-09-16|          50|\n",
      "|6Bi5Q5VIzGz0c6zat...|Victoria's Secret...|0LyfQWJT6nXafLPZq...|compilation|Warner Music Grou...|https://i.scdn.co...|6PN2cMCEQJrOd8JHf...|Crazy What Love C...|           5|          1|     169756|   false|  2022-09-16|          50|\n",
      "|6Bi5Q5VIzGz0c6zat...|Victoria's Secret...|0LyfQWJT6nXafLPZq...|compilation|Warner Music Grou...|https://i.scdn.co...|4K8IrKtN1kKHc9x9F...|               2step|           6|          1|     163449|   false|  2022-09-16|          50|\n",
      "|6Bi5Q5VIzGz0c6zat...|Victoria's Secret...|0LyfQWJT6nXafLPZq...|compilation|Warner Music Grou...|https://i.scdn.co...|5hEExGnUZ2yUp7vKn...|           Hot In It|           7|          1|     129817|   false|  2022-09-16|          50|\n",
      "|6Bi5Q5VIzGz0c6zat...|Victoria's Secret...|0LyfQWJT6nXafLPZq...|compilation|Warner Music Grou...|https://i.scdn.co...|6hJDVowI5TqwGZpNK...|           Last Last|           8|          1|     172342|   false|  2022-09-16|          50|\n",
      "|6Bi5Q5VIzGz0c6zat...|Victoria's Secret...|0LyfQWJT6nXafLPZq...|compilation|Warner Music Grou...|https://i.scdn.co...|1cYHPHWKT6VTSHcaf...|          21 Reasons|           9|          1|     155253|   false|  2022-09-16|          50|\n",
      "|6Bi5Q5VIzGz0c6zat...|Victoria's Secret...|0LyfQWJT6nXafLPZq...|compilation|Warner Music Grou...|https://i.scdn.co...|0bqV36NUeFw4hVEXW...|Devil Doesn't Bar...|          10|          1|     163613|   false|  2022-09-16|          50|\n",
      "|6Bi5Q5VIzGz0c6zat...|Victoria's Secret...|0LyfQWJT6nXafLPZq...|compilation|Warner Music Grou...|https://i.scdn.co...|7x423NIUopefEgnb5...|         First Class|          11|          1|     173947|    true|  2022-09-16|          50|\n",
      "|6Bi5Q5VIzGz0c6zat...|Victoria's Secret...|0LyfQWJT6nXafLPZq...|compilation|Warner Music Grou...|https://i.scdn.co...|420MpQWSQ01a0BOMJ...|       I Just Called|          12|          1|     150560|   false|  2022-09-16|          50|\n",
      "|6Bi5Q5VIzGz0c6zat...|Victoria's Secret...|0LyfQWJT6nXafLPZq...|compilation|Warner Music Grou...|https://i.scdn.co...|3q7oVnRWp85t1n1LK...|Running up That Hill|          13|          1|     170702|   false|  2022-09-16|          50|\n",
      "|6Bi5Q5VIzGz0c6zat...|Victoria's Secret...|0LyfQWJT6nXafLPZq...|compilation|Warner Music Grou...|https://i.scdn.co...|4YKAeEiSXgyLvr8lc...|               MEAN!|          14|          1|     143957|   false|  2022-09-16|          50|\n",
      "|6Bi5Q5VIzGz0c6zat...|Victoria's Secret...|0LyfQWJT6nXafLPZq...|compilation|Warner Music Grou...|https://i.scdn.co...|1DjfyodRq3vB6XhFU...|              Heaven|          15|          1|     153391|   false|  2022-09-16|          50|\n",
      "|6Bi5Q5VIzGz0c6zat...|Victoria's Secret...|0LyfQWJT6nXafLPZq...|compilation|Warner Music Grou...|https://i.scdn.co...|3kwA6WKVLuNLsG1wn...|  Viva Las Vengeance|          16|          1|     206580|   false|  2022-09-16|          50|\n",
      "|6Bi5Q5VIzGz0c6zat...|Victoria's Secret...|0LyfQWJT6nXafLPZq...|compilation|Warner Music Grou...|https://i.scdn.co...|4UpOO1hq9H2HOgCax...|      Afraid to Feel|          17|          1|     177524|   false|  2022-09-16|          50|\n",
      "|6Bi5Q5VIzGz0c6zat...|Victoria's Secret...|0LyfQWJT6nXafLPZq...|compilation|Warner Music Grou...|https://i.scdn.co...|4KDuJWCWyCtPXHaQV...|           die first|          18|          1|     177108|   false|  2022-09-16|          50|\n",
      "|6Bi5Q5VIzGz0c6zat...|Victoria's Secret...|0LyfQWJT6nXafLPZq...|compilation|Warner Music Grou...|https://i.scdn.co...|6cC11HRljgzjd2tSp...|            Hot Shit|          19|          1|     211649|    true|  2022-09-16|          50|\n",
      "|6Bi5Q5VIzGz0c6zat...|Victoria's Secret...|0LyfQWJT6nXafLPZq...|compilation|Warner Music Grou...|https://i.scdn.co...|4tS1OdWaWFI2foPFo...|             Charlie|          20|          1|     184797|   false|  2022-09-16|          50|\n",
      "+--------------------+--------------------+--------------------+-----------+--------------------+--------------------+--------------------+--------------------+------------+-----------+-----------+--------+------------+------------+\n",
      "only showing top 20 rows\n",
      "\n"
     ]
    },
    {
     "name": "stderr",
     "output_type": "stream",
     "text": [
      "                                                                                \r"
     ]
    }
   ],
   "source": [
    "df = spark.read.parquet(parquet_dir)\n",
    "df.show()"
   ]
  },
  {
   "cell_type": "code",
   "execution_count": 4,
   "metadata": {},
   "outputs": [],
   "source": [
    "parquet_dir = f\"file:///home/hooniegit/git/Spotify-DemoProject/spark/data/parquet/artists/2023-12-29\""
   ]
  },
  {
   "cell_type": "code",
   "execution_count": 5,
   "metadata": {},
   "outputs": [
    {
     "name": "stderr",
     "output_type": "stream",
     "text": [
      "[Stage 4:>                                                          (0 + 1) / 1]\r"
     ]
    },
    {
     "name": "stdout",
     "output_type": "stream",
     "text": [
      "+--------------------+-------------+--------------------+--------------------+---------+\n",
      "|           artist_id|  artist_name|               genre|    artist_image_url|followers|\n",
      "+--------------------+-------------+--------------------+--------------------+---------+\n",
      "|3qsKSpcV3ncke3hw5...|   Young Miko|         trap latino|https://i.scdn.co...|  1946884|\n",
      "|3qsKSpcV3ncke3hw5...|   Young Miko|       urbano latino|https://i.scdn.co...|  1946884|\n",
      "|3kVUvbeRdcrqQ3oHk...|    GROUPLOVE|          indie rock|https://i.scdn.co...|  1156962|\n",
      "|3kVUvbeRdcrqQ3oHk...|    GROUPLOVE|            la indie|https://i.scdn.co...|  1156962|\n",
      "|3kVUvbeRdcrqQ3oHk...|    GROUPLOVE|modern alternativ...|https://i.scdn.co...|  1156962|\n",
      "|3kVUvbeRdcrqQ3oHk...|    GROUPLOVE|         modern rock|https://i.scdn.co...|  1156962|\n",
      "|3kVUvbeRdcrqQ3oHk...|    GROUPLOVE|          pov: indie|https://i.scdn.co...|  1156962|\n",
      "|3kVUvbeRdcrqQ3oHk...|    GROUPLOVE|    stomp and holler|https://i.scdn.co...|  1156962|\n",
      "|4B8u7XuCSCPhqrVoz...| Kemal Palevi|  indonesian hip hop|https://i.scdn.co...|    37144|\n",
      "|5fMUXHkw8R8eOP2RN...|        Diplo|           dance pop|https://i.scdn.co...|  2581254|\n",
      "|5fMUXHkw8R8eOP2RN...|        Diplo|                 edm|https://i.scdn.co...|  2581254|\n",
      "|5fMUXHkw8R8eOP2RN...|        Diplo|       electro house|https://i.scdn.co...|  2581254|\n",
      "|5fMUXHkw8R8eOP2RN...|        Diplo|          moombahton|https://i.scdn.co...|  2581254|\n",
      "|5fMUXHkw8R8eOP2RN...|        Diplo|           pop dance|https://i.scdn.co...|  2581254|\n",
      "|4p07QU02SrLsaORo2...|       Sammie|             hip pop|https://i.scdn.co...|   589771|\n",
      "|4p07QU02SrLsaORo2...|       Sammie|                 r&b|https://i.scdn.co...|   589771|\n",
      "|4p07QU02SrLsaORo2...|       Sammie|  urban contemporary|https://i.scdn.co...|   589771|\n",
      "|2NfwGBr2swqZ1rzE3...|Saucy Santana|          trap queen|https://i.scdn.co...|   218697|\n",
      "|3GxKJzJK4LpsYGXQr...|    Mimi Webb|               alt z|https://i.scdn.co...|   341362|\n",
      "|3GxKJzJK4LpsYGXQr...|    Mimi Webb|gen z singer-song...|https://i.scdn.co...|   341362|\n",
      "+--------------------+-------------+--------------------+--------------------+---------+\n",
      "only showing top 20 rows\n",
      "\n"
     ]
    },
    {
     "name": "stderr",
     "output_type": "stream",
     "text": [
      "                                                                                \r"
     ]
    }
   ],
   "source": [
    "df = spark.read.parquet(parquet_dir)\n",
    "df.show()"
   ]
  },
  {
   "cell_type": "code",
   "execution_count": 8,
   "metadata": {},
   "outputs": [],
   "source": [
    "spark.stop()"
   ]
  }
 ],
 "metadata": {
  "kernelspec": {
   "display_name": "Python 3",
   "language": "python",
   "name": "python3"
  },
  "language_info": {
   "codemirror_mode": {
    "name": "ipython",
    "version": 3
   },
   "file_extension": ".py",
   "mimetype": "text/x-python",
   "name": "python",
   "nbconvert_exporter": "python",
   "pygments_lexer": "ipython3",
   "version": "3.10.12"
  },
  "orig_nbformat": 4
 },
 "nbformat": 4,
 "nbformat_minor": 2
}
