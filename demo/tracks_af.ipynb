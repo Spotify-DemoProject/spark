{
 "cells": [
  {
   "cell_type": "code",
   "execution_count": 1,
   "metadata": {},
   "outputs": [
    {
     "name": "stderr",
     "output_type": "stream",
     "text": [
      "24/01/05 15:30:06 WARN Utils: Your hostname, workspace resolves to a loopback address: 127.0.0.1; using 220.118.158.128 instead (on interface eno1)\n",
      "24/01/05 15:30:07 WARN Utils: Set SPARK_LOCAL_IP if you need to bind to another address\n",
      "Setting default log level to \"WARN\".\n",
      "To adjust logging level use sc.setLogLevel(newLevel). For SparkR, use setLogLevel(newLevel).\n",
      "24/01/05 15:30:08 WARN NativeCodeLoader: Unable to load native-hadoop library for your platform... using builtin-java classes where applicable\n"
     ]
    }
   ],
   "source": [
    "from pyspark import SparkConf, SparkContext\n",
    "from pyspark.sql import SparkSession\n",
    "\n",
    "conf = SparkConf().setAppName(\"\").setMaster(\"spark://workspace:7077\")\n",
    "sparkContext = SparkContext(conf=conf)\n",
    "spark = SparkSession(sparkContext=sparkContext)"
   ]
  },
  {
   "cell_type": "code",
   "execution_count": 2,
   "metadata": {},
   "outputs": [],
   "source": [
    "from pyspark.sql.functions import explode"
   ]
  },
  {
   "cell_type": "code",
   "execution_count": 3,
   "metadata": {},
   "outputs": [],
   "source": [
    "json_dir = \"file:///home/hooniegit/git/Spotify-DemoProject/fastapi/data/tracks/audio_features/2024-01-02\""
   ]
  },
  {
   "cell_type": "code",
   "execution_count": 4,
   "metadata": {},
   "outputs": [
    {
     "name": "stderr",
     "output_type": "stream",
     "text": [
      "                                                                                \r"
     ]
    },
    {
     "name": "stdout",
     "output_type": "stream",
     "text": [
      "+--------------------+-----------+---+----+--------------+-------+------------+------------+------+----------------+--------+--------+-----------+-------+\n",
      "|                  id|duration_ms|key|mode|time_signature|  tempo|acousticness|danceability|energy|instrumentalness|liveness|loudness|speechiness|valence|\n",
      "+--------------------+-----------+---+----+--------------+-------+------------+------------+------+----------------+--------+--------+-----------+-------+\n",
      "|2c205W7B9H7ixgaH2...|     356560|  0|   1|             4|140.029|       0.491|         0.7| 0.386|           0.714|    0.17| -19.863|     0.0347|  0.809|\n",
      "|1R3HnC0UegFSN20yF...|     218670|  1|   1|             4|140.093|        0.48|         0.2|0.0393|           0.863|    0.12|  -14.93|     0.0366|  0.024|\n",
      "|7kbjdEAD8oXGsxwsv...|     145547|  1|   1|             4|125.999|       0.137|       0.846| 0.362|         0.00148|   0.109|  -9.218|      0.177|   0.36|\n",
      "|5ULMo3Rt4PvRcvXsP...|     192419|  4|   1|             4|144.011|     4.81E-4|       0.419| 0.838|           0.955|   0.291|  -7.386|     0.0324|  0.794|\n",
      "|6f5JEtoYgUWYmvee7...|     218880|  7|   0|             4|175.934|     0.00806|       0.589| 0.704|          0.0545|   0.106|  -7.045|     0.0518|  0.608|\n",
      "|2g0olr5XkiXbNq5N6...|     356560|  4|   0|             4| 139.96|       0.506|       0.661| 0.218|           0.442|    0.11| -22.743|     0.0354|  0.771|\n",
      "|7cGLbzrQw1Rxo0ZX9...|     229600|  3|   0|             4|111.024|       0.651|       0.818| 0.548|         6.47E-4|  0.0732|  -6.187|     0.0287|   0.96|\n",
      "|1STlPfvvD8h0Mq94u...|     187667|  1|   0|             4|173.976|       0.031|       0.665| 0.844|             0.0|  0.0496|  -6.589|      0.128|  0.902|\n",
      "|5ikvP6XFo5f8IAbXY...|     133337|  2|   1|             4| 172.16|     2.35E-6|       0.325| 0.807|           0.839|   0.218|  -5.822|     0.0304|  0.535|\n",
      "|1AgZ2IuW2iWQhPrhx...|     384000| 11|   1|             4| 92.041|     0.00138|        0.73| 0.552|           0.139|  0.0754|  -8.674|     0.0417|  0.115|\n",
      "|3gic3mdKyGQ0V2NI0...|     267373|  7|   0|             4|128.047|       0.183|       0.676| 0.711|         2.27E-4|   0.199|  -6.475|      0.048|  0.108|\n",
      "|26IP7C2PvyWQ0qvrU...|     243240| 10|   0|             4|171.986|       0.053|       0.554| 0.775|          0.0157|   0.101|  -8.521|     0.0395|  0.765|\n",
      "|2gHhtAudQbjgMspFv...|     178692|  4|   1|             4|131.043|     9.43E-4|       0.506| 0.782|           0.814|    0.12|  -7.043|     0.0412|  0.416|\n",
      "|4CdmRjbaHN5K23ZEF...|     384000|  8|   1|             4|184.005|      9.9E-4|        0.67| 0.476|           0.903|  0.0787|  -9.944|      0.118| 0.0912|\n",
      "|4HFjIPHALkEV4d1bE...|     258000|  8|   0|             4| 91.992|      0.0324|       0.598| 0.444|           0.636|   0.199| -10.373|     0.0371|   0.16|\n",
      "|17g8FJxpKetUBfZGf...|     223560|  1|   1|             4|171.992|      0.0137|       0.653| 0.719|           0.512|  0.0979|    -7.6|     0.0554|  0.685|\n",
      "|5sYIycJLMlB9tD7sF...|     166864|  7|   1|             4| 78.903|      0.0932|       0.333|  0.54|           0.832|   0.138|  -8.747|     0.0314| 0.0869|\n",
      "|1LdK05FvyJrrtzw4V...|     126897|  5|   1|             4|174.278|     0.00173|       0.786| 0.569|         0.00177|     0.1|  -7.278|     0.0721|  0.602|\n",
      "|3yUYvKG4ZhZ4OuO7q...|     208813|  3|   1|             3|139.904|       0.109|       0.651| 0.518|         0.00144|   0.136|  -7.514|     0.0342|   0.22|\n",
      "|15oWYHqqFJNucaxUY...|     198333|  7|   1|             4|175.948|      0.0604|       0.686| 0.624|         0.00114|   0.226|  -8.754|     0.0838|   0.53|\n",
      "+--------------------+-----------+---+----+--------------+-------+------------+------------+------+----------------+--------+--------+-----------+-------+\n",
      "only showing top 20 rows\n",
      "\n"
     ]
    }
   ],
   "source": [
    "df = spark.read.option(\"multiline\", \"true\").json(json_dir) \\\n",
    "    .withColumn(\"audio_features\", explode(\"audio_features\")) \\\n",
    "    .selectExpr(\"audio_features.id\",\n",
    "                \"audio_features.key\",\n",
    "                \"audio_features.mode\",\n",
    "                \"audio_features.time_signature\",\n",
    "                \"audio_features.tempo\",\n",
    "                \"audio_features.acousticness\",\n",
    "                \"audio_features.danceability\",\n",
    "                \"audio_features.energy\",\n",
    "                \"audio_features.instrumentalness\",\n",
    "                \"audio_features.liveness\",\n",
    "                \"audio_features.loudness\",\n",
    "                \"audio_features.speechiness\",\n",
    "                \"audio_features.valence\")\n",
    "df.show()"
   ]
  },
  {
   "cell_type": "code",
   "execution_count": 5,
   "metadata": {},
   "outputs": [
    {
     "name": "stderr",
     "output_type": "stream",
     "text": [
      "24/01/05 15:39:12 WARN NioEventLoop: Selector.select() returned prematurely 512 times in a row; rebuilding Selector io.netty.channel.nio.SelectedSelectionKeySetSelector@7e065fce.\n",
      "24/01/05 15:39:12 WARN NioEventLoop: Selector.select() returned prematurely 512 times in a row; rebuilding Selector io.netty.channel.nio.SelectedSelectionKeySetSelector@74b122e5.\n",
      "24/01/05 15:39:12 WARN NioEventLoop: Selector.select() returned prematurely 512 times in a row; rebuilding Selector io.netty.channel.nio.SelectedSelectionKeySetSelector@72ea5db3.\n",
      "24/01/05 15:39:12 WARN NioEventLoop: Selector.select() returned prematurely 512 times in a row; rebuilding Selector io.netty.channel.nio.SelectedSelectionKeySetSelector@1b4cb7d6.\n",
      "24/01/05 15:39:12 WARN NioEventLoop: Selector.select() returned prematurely 512 times in a row; rebuilding Selector io.netty.channel.nio.SelectedSelectionKeySetSelector@61da60d2.\n"
     ]
    }
   ],
   "source": [
    "spark.stop()"
   ]
  }
 ],
 "metadata": {
  "kernelspec": {
   "display_name": "Python 3",
   "language": "python",
   "name": "python3"
  },
  "language_info": {
   "codemirror_mode": {
    "name": "ipython",
    "version": 3
   },
   "file_extension": ".py",
   "mimetype": "text/x-python",
   "name": "python",
   "nbconvert_exporter": "python",
   "pygments_lexer": "ipython3",
   "version": "3.12.1"
  },
  "orig_nbformat": 4
 },
 "nbformat": 4,
 "nbformat_minor": 2
}
