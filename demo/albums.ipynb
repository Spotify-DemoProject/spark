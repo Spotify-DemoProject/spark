{
 "cells": [
  {
   "cell_type": "code",
   "execution_count": 1,
   "metadata": {},
   "outputs": [
    {
     "name": "stderr",
     "output_type": "stream",
     "text": [
      "23/12/30 16:45:19 WARN Utils: Your hostname, workspace resolves to a loopback address: 127.0.0.1; using 220.118.158.128 instead (on interface eno1)\n",
      "23/12/30 16:45:19 WARN Utils: Set SPARK_LOCAL_IP if you need to bind to another address\n",
      "Setting default log level to \"WARN\".\n",
      "To adjust logging level use sc.setLogLevel(newLevel). For SparkR, use setLogLevel(newLevel).\n",
      "23/12/30 16:45:21 WARN NativeCodeLoader: Unable to load native-hadoop library for your platform... using builtin-java classes where applicable\n"
     ]
    }
   ],
   "source": [
    "from pyspark import SparkConf, SparkContext\n",
    "from pyspark.sql import SparkSession\n",
    "\n",
    "conf = SparkConf().setAppName(\"\").setMaster(\"spark://workspace:7077\")\n",
    "sparkContext = SparkContext(conf=conf)\n",
    "spark = SparkSession(sparkContext=sparkContext)"
   ]
  },
  {
   "cell_type": "code",
   "execution_count": 2,
   "metadata": {},
   "outputs": [],
   "source": [
    "from pyspark.sql.functions import expr, explode, col"
   ]
  },
  {
   "cell_type": "code",
   "execution_count": 3,
   "metadata": {},
   "outputs": [],
   "source": [
    "json_dir = \"file:///home/hooniegit/git/Spotify-DemoProject/fastapi/data/albums/2023-12-29\""
   ]
  },
  {
   "cell_type": "code",
   "execution_count": 15,
   "metadata": {},
   "outputs": [
    {
     "name": "stderr",
     "output_type": "stream",
     "text": [
      "                                                                                \r"
     ]
    },
    {
     "name": "stdout",
     "output_type": "stream",
     "text": [
      "root\n",
      " |-- albums: array (nullable = true)\n",
      " |    |-- element: struct (containsNull = true)\n",
      " |    |    |-- album_type: string (nullable = true)\n",
      " |    |    |-- artists: array (nullable = true)\n",
      " |    |    |    |-- element: struct (containsNull = true)\n",
      " |    |    |    |    |-- external_urls: struct (nullable = true)\n",
      " |    |    |    |    |    |-- spotify: string (nullable = true)\n",
      " |    |    |    |    |-- href: string (nullable = true)\n",
      " |    |    |    |    |-- id: string (nullable = true)\n",
      " |    |    |    |    |-- name: string (nullable = true)\n",
      " |    |    |    |    |-- type: string (nullable = true)\n",
      " |    |    |    |    |-- uri: string (nullable = true)\n",
      " |    |    |-- copyrights: array (nullable = true)\n",
      " |    |    |    |-- element: struct (containsNull = true)\n",
      " |    |    |    |    |-- text: string (nullable = true)\n",
      " |    |    |    |    |-- type: string (nullable = true)\n",
      " |    |    |-- external_ids: struct (nullable = true)\n",
      " |    |    |    |-- amgid: string (nullable = true)\n",
      " |    |    |    |-- upc: string (nullable = true)\n",
      " |    |    |-- external_urls: struct (nullable = true)\n",
      " |    |    |    |-- spotify: string (nullable = true)\n",
      " |    |    |-- genres: array (nullable = true)\n",
      " |    |    |    |-- element: string (containsNull = true)\n",
      " |    |    |-- href: string (nullable = true)\n",
      " |    |    |-- id: string (nullable = true)\n",
      " |    |    |-- images: array (nullable = true)\n",
      " |    |    |    |-- element: struct (containsNull = true)\n",
      " |    |    |    |    |-- height: long (nullable = true)\n",
      " |    |    |    |    |-- url: string (nullable = true)\n",
      " |    |    |    |    |-- width: long (nullable = true)\n",
      " |    |    |-- is_playable: boolean (nullable = true)\n",
      " |    |    |-- label: string (nullable = true)\n",
      " |    |    |-- name: string (nullable = true)\n",
      " |    |    |-- popularity: long (nullable = true)\n",
      " |    |    |-- release_date: string (nullable = true)\n",
      " |    |    |-- release_date_precision: string (nullable = true)\n",
      " |    |    |-- restrictions: struct (nullable = true)\n",
      " |    |    |    |-- reason: string (nullable = true)\n",
      " |    |    |-- total_tracks: long (nullable = true)\n",
      " |    |    |-- tracks: struct (nullable = true)\n",
      " |    |    |    |-- href: string (nullable = true)\n",
      " |    |    |    |-- items: array (nullable = true)\n",
      " |    |    |    |    |-- element: struct (containsNull = true)\n",
      " |    |    |    |    |    |-- artists: array (nullable = true)\n",
      " |    |    |    |    |    |    |-- element: struct (containsNull = true)\n",
      " |    |    |    |    |    |    |    |-- external_urls: struct (nullable = true)\n",
      " |    |    |    |    |    |    |    |    |-- spotify: string (nullable = true)\n",
      " |    |    |    |    |    |    |    |-- href: string (nullable = true)\n",
      " |    |    |    |    |    |    |    |-- id: string (nullable = true)\n",
      " |    |    |    |    |    |    |    |-- name: string (nullable = true)\n",
      " |    |    |    |    |    |    |    |-- type: string (nullable = true)\n",
      " |    |    |    |    |    |    |    |-- uri: string (nullable = true)\n",
      " |    |    |    |    |    |-- disc_number: long (nullable = true)\n",
      " |    |    |    |    |    |-- duration_ms: long (nullable = true)\n",
      " |    |    |    |    |    |-- explicit: boolean (nullable = true)\n",
      " |    |    |    |    |    |-- external_urls: struct (nullable = true)\n",
      " |    |    |    |    |    |    |-- spotify: string (nullable = true)\n",
      " |    |    |    |    |    |-- href: string (nullable = true)\n",
      " |    |    |    |    |    |-- id: string (nullable = true)\n",
      " |    |    |    |    |    |-- is_local: boolean (nullable = true)\n",
      " |    |    |    |    |    |-- is_playable: boolean (nullable = true)\n",
      " |    |    |    |    |    |-- linked_from: struct (nullable = true)\n",
      " |    |    |    |    |    |    |-- external_urls: struct (nullable = true)\n",
      " |    |    |    |    |    |    |    |-- spotify: string (nullable = true)\n",
      " |    |    |    |    |    |    |-- href: string (nullable = true)\n",
      " |    |    |    |    |    |    |-- id: string (nullable = true)\n",
      " |    |    |    |    |    |    |-- type: string (nullable = true)\n",
      " |    |    |    |    |    |    |-- uri: string (nullable = true)\n",
      " |    |    |    |    |    |-- name: string (nullable = true)\n",
      " |    |    |    |    |    |-- preview_url: string (nullable = true)\n",
      " |    |    |    |    |    |-- restrictions: struct (nullable = true)\n",
      " |    |    |    |    |    |    |-- reason: string (nullable = true)\n",
      " |    |    |    |    |    |-- track_number: long (nullable = true)\n",
      " |    |    |    |    |    |-- type: string (nullable = true)\n",
      " |    |    |    |    |    |-- uri: string (nullable = true)\n",
      " |    |    |    |-- limit: long (nullable = true)\n",
      " |    |    |    |-- next: string (nullable = true)\n",
      " |    |    |    |-- offset: long (nullable = true)\n",
      " |    |    |    |-- previous: string (nullable = true)\n",
      " |    |    |    |-- total: long (nullable = true)\n",
      " |    |    |-- type: string (nullable = true)\n",
      " |    |    |-- uri: string (nullable = true)\n",
      "\n"
     ]
    }
   ],
   "source": [
    "df = spark.read.option(\"multiline\", \"true\").json(json_dir)\n",
    "df.printSchema()"
   ]
  },
  {
   "cell_type": "code",
   "execution_count": 7,
   "metadata": {},
   "outputs": [
    {
     "name": "stderr",
     "output_type": "stream",
     "text": [
      "[Stage 7:>                                                          (0 + 1) / 1]\r"
     ]
    },
    {
     "name": "stdout",
     "output_type": "stream",
     "text": [
      "+--------------------+\n",
      "|              albums|\n",
      "+--------------------+\n",
      "|{compilation, [{{...|\n",
      "|{single, [{{https...|\n",
      "|{single, [{{https...|\n",
      "|{compilation, [{{...|\n",
      "|{compilation, [{{...|\n",
      "|{album, [{{https:...|\n",
      "|{compilation, [{{...|\n",
      "|{single, [{{https...|\n",
      "|{album, [{{https:...|\n",
      "|{compilation, [{{...|\n",
      "|{single, [{{https...|\n",
      "|{single, [{{https...|\n",
      "|{album, [{{https:...|\n",
      "|{single, [{{https...|\n",
      "|{single, [{{https...|\n",
      "|{album, [{{https:...|\n",
      "|{compilation, [{{...|\n",
      "|{single, [{{https...|\n",
      "|{compilation, [{{...|\n",
      "|{single, [{{https...|\n",
      "+--------------------+\n",
      "only showing top 20 rows\n",
      "\n"
     ]
    },
    {
     "name": "stderr",
     "output_type": "stream",
     "text": [
      "                                                                                \r"
     ]
    }
   ],
   "source": [
    "df = spark.read.option(\"multiline\", \"true\").json(json_dir) \\\n",
    "    .select(explode('albums').alias('albums'))\n",
    "\n",
    "df.show()"
   ]
  },
  {
   "cell_type": "code",
   "execution_count": 11,
   "metadata": {},
   "outputs": [
    {
     "name": "stderr",
     "output_type": "stream",
     "text": [
      "[Stage 12:>                                                         (0 + 1) / 1]\r"
     ]
    },
    {
     "name": "stdout",
     "output_type": "stream",
     "text": [
      "+--------------------+--------------------+--------------------+-----------+--------------------+--------------------+--------------------+--------------------+------------+-----------+-----------+--------+------------+------------+\n",
      "|            album_id|          album_name|           artist_id| album_type|               label|     album_image_url|            track_id|          track_name|track_number|disc_number|duration_ms|explicit|release_date|total_tracks|\n",
      "+--------------------+--------------------+--------------------+-----------+--------------------+--------------------+--------------------+--------------------+------------+-----------+-----------+--------+------------+------------+\n",
      "|6Bi5Q5VIzGz0c6zat...|Victoria's Secret...|0LyfQWJT6nXafLPZq...|compilation|Warner Music Grou...|https://i.scdn.co...|4FU8T0t7YASGlMaA8...|   Victoria's Secret|           1|          1|     176124|    true|  2022-09-16|          50|\n",
      "|6Bi5Q5VIzGz0c6zat...|Victoria's Secret...|0LyfQWJT6nXafLPZq...|compilation|Warner Music Grou...|https://i.scdn.co...|6QEv2OySmn8WAjTlH...|      Left and Right|           2|          1|     154486|   false|  2022-09-16|          50|\n",
      "|6Bi5Q5VIzGz0c6zat...|Victoria's Secret...|0LyfQWJT6nXafLPZq...|compilation|Warner Music Grou...|https://i.scdn.co...|5xBgTb41fF3Pa7KLP...|     About Damn Time|           3|          1|     191822|    true|  2022-09-16|          50|\n",
      "|6Bi5Q5VIzGz0c6zat...|Victoria's Secret...|0LyfQWJT6nXafLPZq...|compilation|Warner Music Grou...|https://i.scdn.co...|1cAoRkY0VTnUmFGPq...|        In the Stars|           4|          1|     216410|   false|  2022-09-16|          50|\n",
      "|6Bi5Q5VIzGz0c6zat...|Victoria's Secret...|0LyfQWJT6nXafLPZq...|compilation|Warner Music Grou...|https://i.scdn.co...|6PN2cMCEQJrOd8JHf...|Crazy What Love C...|           5|          1|     169756|   false|  2022-09-16|          50|\n",
      "|6Bi5Q5VIzGz0c6zat...|Victoria's Secret...|0LyfQWJT6nXafLPZq...|compilation|Warner Music Grou...|https://i.scdn.co...|4K8IrKtN1kKHc9x9F...|               2step|           6|          1|     163449|   false|  2022-09-16|          50|\n",
      "|6Bi5Q5VIzGz0c6zat...|Victoria's Secret...|0LyfQWJT6nXafLPZq...|compilation|Warner Music Grou...|https://i.scdn.co...|5hEExGnUZ2yUp7vKn...|           Hot In It|           7|          1|     129817|   false|  2022-09-16|          50|\n",
      "|6Bi5Q5VIzGz0c6zat...|Victoria's Secret...|0LyfQWJT6nXafLPZq...|compilation|Warner Music Grou...|https://i.scdn.co...|6hJDVowI5TqwGZpNK...|           Last Last|           8|          1|     172342|   false|  2022-09-16|          50|\n",
      "|6Bi5Q5VIzGz0c6zat...|Victoria's Secret...|0LyfQWJT6nXafLPZq...|compilation|Warner Music Grou...|https://i.scdn.co...|1cYHPHWKT6VTSHcaf...|          21 Reasons|           9|          1|     155253|   false|  2022-09-16|          50|\n",
      "|6Bi5Q5VIzGz0c6zat...|Victoria's Secret...|0LyfQWJT6nXafLPZq...|compilation|Warner Music Grou...|https://i.scdn.co...|0bqV36NUeFw4hVEXW...|Devil Doesn't Bar...|          10|          1|     163613|   false|  2022-09-16|          50|\n",
      "|6Bi5Q5VIzGz0c6zat...|Victoria's Secret...|0LyfQWJT6nXafLPZq...|compilation|Warner Music Grou...|https://i.scdn.co...|7x423NIUopefEgnb5...|         First Class|          11|          1|     173947|    true|  2022-09-16|          50|\n",
      "|6Bi5Q5VIzGz0c6zat...|Victoria's Secret...|0LyfQWJT6nXafLPZq...|compilation|Warner Music Grou...|https://i.scdn.co...|420MpQWSQ01a0BOMJ...|       I Just Called|          12|          1|     150560|   false|  2022-09-16|          50|\n",
      "|6Bi5Q5VIzGz0c6zat...|Victoria's Secret...|0LyfQWJT6nXafLPZq...|compilation|Warner Music Grou...|https://i.scdn.co...|3q7oVnRWp85t1n1LK...|Running up That Hill|          13|          1|     170702|   false|  2022-09-16|          50|\n",
      "|6Bi5Q5VIzGz0c6zat...|Victoria's Secret...|0LyfQWJT6nXafLPZq...|compilation|Warner Music Grou...|https://i.scdn.co...|4YKAeEiSXgyLvr8lc...|               MEAN!|          14|          1|     143957|   false|  2022-09-16|          50|\n",
      "|6Bi5Q5VIzGz0c6zat...|Victoria's Secret...|0LyfQWJT6nXafLPZq...|compilation|Warner Music Grou...|https://i.scdn.co...|1DjfyodRq3vB6XhFU...|              Heaven|          15|          1|     153391|   false|  2022-09-16|          50|\n",
      "|6Bi5Q5VIzGz0c6zat...|Victoria's Secret...|0LyfQWJT6nXafLPZq...|compilation|Warner Music Grou...|https://i.scdn.co...|3kwA6WKVLuNLsG1wn...|  Viva Las Vengeance|          16|          1|     206580|   false|  2022-09-16|          50|\n",
      "|6Bi5Q5VIzGz0c6zat...|Victoria's Secret...|0LyfQWJT6nXafLPZq...|compilation|Warner Music Grou...|https://i.scdn.co...|4UpOO1hq9H2HOgCax...|      Afraid to Feel|          17|          1|     177524|   false|  2022-09-16|          50|\n",
      "|6Bi5Q5VIzGz0c6zat...|Victoria's Secret...|0LyfQWJT6nXafLPZq...|compilation|Warner Music Grou...|https://i.scdn.co...|4KDuJWCWyCtPXHaQV...|           die first|          18|          1|     177108|   false|  2022-09-16|          50|\n",
      "|6Bi5Q5VIzGz0c6zat...|Victoria's Secret...|0LyfQWJT6nXafLPZq...|compilation|Warner Music Grou...|https://i.scdn.co...|6cC11HRljgzjd2tSp...|            Hot Shit|          19|          1|     211649|    true|  2022-09-16|          50|\n",
      "|6Bi5Q5VIzGz0c6zat...|Victoria's Secret...|0LyfQWJT6nXafLPZq...|compilation|Warner Music Grou...|https://i.scdn.co...|4tS1OdWaWFI2foPFo...|             Charlie|          20|          1|     184797|   false|  2022-09-16|          50|\n",
      "+--------------------+--------------------+--------------------+-----------+--------------------+--------------------+--------------------+--------------------+------------+-----------+-----------+--------+------------+------------+\n",
      "only showing top 20 rows\n",
      "\n"
     ]
    },
    {
     "name": "stderr",
     "output_type": "stream",
     "text": [
      "                                                                                \r"
     ]
    }
   ],
   "source": [
    "df = spark.read.option(\"multiline\", \"true\").json(json_dir) \\\n",
    "    .select(explode('albums').alias('albums')) \\\n",
    "    .withColumn(\"image\", explode(expr(\"albums.images\"))) \\\n",
    "    .filter(col(\"image.height\") == 640) \\\n",
    "    .withColumn(\"artist_id\", explode(expr(\"albums.artists.id\"))) \\\n",
    "    .withColumn(\"album_id\", expr(\"albums.id\")) \\\n",
    "    .withColumn(\"album_name\", expr(\"albums.name\")) \\\n",
    "    .withColumn(\"album_image_url\", expr(\"image.url\")) \\\n",
    "    .withColumn(\"track\", explode(expr(\"albums.tracks.items\"))) \\\n",
    "    .withColumn(\"track_id\", expr(\"track.id\")) \\\n",
    "    .withColumn(\"track_name\", expr(\"track.name\")) \\\n",
    "    .withColumn(\"duration_ms\", expr(\"track.duration_ms\")) \\\n",
    "    .withColumn(\"explicit\", expr(\"track.explicit\")) \\\n",
    "    .withColumn(\"disc_number\", expr(\"track.disc_number\")) \\\n",
    "    .withColumn(\"track_number\", expr(\"track.track_number\")) \\\n",
    "    .select(\"album_id\", \"album_name\", \"artist_id\", \"albums.album_type\", \"albums.label\", \"album_image_url\", \"track_id\", \"track_name\", \"track_number\", \"disc_number\", \"duration_ms\", \"explicit\", \"albums.release_date\", \"albums.total_tracks\")\n",
    "\n",
    "df.show()"
   ]
  },
  {
   "cell_type": "code",
   "execution_count": 13,
   "metadata": {},
   "outputs": [
    {
     "name": "stderr",
     "output_type": "stream",
     "text": [
      "                                                                                \r"
     ]
    },
    {
     "data": {
      "text/plain": [
       "[Row(album_id='6Bi5Q5VIzGz0c6zatIVqLq', album_name=\"Victoria's Secret - Pop Bangers\", artist_id='0LyfQWJT6nXafLPZqxe9Of', album_type='compilation', label='Warner Music Group - X5 Music Group', album_image_url='https://i.scdn.co/image/ab67616d0000b273f42e6a067b35a658b051cab0', track_id='4FU8T0t7YASGlMaA8uaJ2R', track_name=\"Victoria's Secret\", track_number=1, disc_number=1, duration_ms=176124, explicit=True, release_date='2022-09-16', total_tracks=50),\n",
       " Row(album_id='6Bi5Q5VIzGz0c6zatIVqLq', album_name=\"Victoria's Secret - Pop Bangers\", artist_id='0LyfQWJT6nXafLPZqxe9Of', album_type='compilation', label='Warner Music Group - X5 Music Group', album_image_url='https://i.scdn.co/image/ab67616d0000b273f42e6a067b35a658b051cab0', track_id='6QEv2OySmn8WAjTlHrTJBV', track_name='Left and Right', track_number=2, disc_number=1, duration_ms=154486, explicit=False, release_date='2022-09-16', total_tracks=50),\n",
       " Row(album_id='6Bi5Q5VIzGz0c6zatIVqLq', album_name=\"Victoria's Secret - Pop Bangers\", artist_id='0LyfQWJT6nXafLPZqxe9Of', album_type='compilation', label='Warner Music Group - X5 Music Group', album_image_url='https://i.scdn.co/image/ab67616d0000b273f42e6a067b35a658b051cab0', track_id='5xBgTb41fF3Pa7KLPK9R1G', track_name='About Damn Time', track_number=3, disc_number=1, duration_ms=191822, explicit=True, release_date='2022-09-16', total_tracks=50),\n",
       " Row(album_id='6Bi5Q5VIzGz0c6zatIVqLq', album_name=\"Victoria's Secret - Pop Bangers\", artist_id='0LyfQWJT6nXafLPZqxe9Of', album_type='compilation', label='Warner Music Group - X5 Music Group', album_image_url='https://i.scdn.co/image/ab67616d0000b273f42e6a067b35a658b051cab0', track_id='1cAoRkY0VTnUmFGPq79B42', track_name='In the Stars', track_number=4, disc_number=1, duration_ms=216410, explicit=False, release_date='2022-09-16', total_tracks=50),\n",
       " Row(album_id='6Bi5Q5VIzGz0c6zatIVqLq', album_name=\"Victoria's Secret - Pop Bangers\", artist_id='0LyfQWJT6nXafLPZqxe9Of', album_type='compilation', label='Warner Music Group - X5 Music Group', album_image_url='https://i.scdn.co/image/ab67616d0000b273f42e6a067b35a658b051cab0', track_id='6PN2cMCEQJrOd8JHfmpKV6', track_name='Crazy What Love Can Do', track_number=5, disc_number=1, duration_ms=169756, explicit=False, release_date='2022-09-16', total_tracks=50),\n",
       " Row(album_id='6Bi5Q5VIzGz0c6zatIVqLq', album_name=\"Victoria's Secret - Pop Bangers\", artist_id='0LyfQWJT6nXafLPZqxe9Of', album_type='compilation', label='Warner Music Group - X5 Music Group', album_image_url='https://i.scdn.co/image/ab67616d0000b273f42e6a067b35a658b051cab0', track_id='4K8IrKtN1kKHc9x9FzEs4r', track_name='2step', track_number=6, disc_number=1, duration_ms=163449, explicit=False, release_date='2022-09-16', total_tracks=50),\n",
       " Row(album_id='6Bi5Q5VIzGz0c6zatIVqLq', album_name=\"Victoria's Secret - Pop Bangers\", artist_id='0LyfQWJT6nXafLPZqxe9Of', album_type='compilation', label='Warner Music Group - X5 Music Group', album_image_url='https://i.scdn.co/image/ab67616d0000b273f42e6a067b35a658b051cab0', track_id='5hEExGnUZ2yUp7vKnx947X', track_name='Hot In It', track_number=7, disc_number=1, duration_ms=129817, explicit=False, release_date='2022-09-16', total_tracks=50),\n",
       " Row(album_id='6Bi5Q5VIzGz0c6zatIVqLq', album_name=\"Victoria's Secret - Pop Bangers\", artist_id='0LyfQWJT6nXafLPZqxe9Of', album_type='compilation', label='Warner Music Group - X5 Music Group', album_image_url='https://i.scdn.co/image/ab67616d0000b273f42e6a067b35a658b051cab0', track_id='6hJDVowI5TqwGZpNKOsL9z', track_name='Last Last', track_number=8, disc_number=1, duration_ms=172342, explicit=False, release_date='2022-09-16', total_tracks=50),\n",
       " Row(album_id='6Bi5Q5VIzGz0c6zatIVqLq', album_name=\"Victoria's Secret - Pop Bangers\", artist_id='0LyfQWJT6nXafLPZqxe9Of', album_type='compilation', label='Warner Music Group - X5 Music Group', album_image_url='https://i.scdn.co/image/ab67616d0000b273f42e6a067b35a658b051cab0', track_id='1cYHPHWKT6VTSHcaf4KyCk', track_name='21 Reasons', track_number=9, disc_number=1, duration_ms=155253, explicit=False, release_date='2022-09-16', total_tracks=50),\n",
       " Row(album_id='6Bi5Q5VIzGz0c6zatIVqLq', album_name=\"Victoria's Secret - Pop Bangers\", artist_id='0LyfQWJT6nXafLPZqxe9Of', album_type='compilation', label='Warner Music Group - X5 Music Group', album_image_url='https://i.scdn.co/image/ab67616d0000b273f42e6a067b35a658b051cab0', track_id='0bqV36NUeFw4hVEXWOAoLH', track_name=\"Devil Doesn't Bargain\", track_number=10, disc_number=1, duration_ms=163613, explicit=False, release_date='2022-09-16', total_tracks=50),\n",
       " Row(album_id='6Bi5Q5VIzGz0c6zatIVqLq', album_name=\"Victoria's Secret - Pop Bangers\", artist_id='0LyfQWJT6nXafLPZqxe9Of', album_type='compilation', label='Warner Music Group - X5 Music Group', album_image_url='https://i.scdn.co/image/ab67616d0000b273f42e6a067b35a658b051cab0', track_id='7x423NIUopefEgnb5pTw4d', track_name='First Class', track_number=11, disc_number=1, duration_ms=173947, explicit=True, release_date='2022-09-16', total_tracks=50),\n",
       " Row(album_id='6Bi5Q5VIzGz0c6zatIVqLq', album_name=\"Victoria's Secret - Pop Bangers\", artist_id='0LyfQWJT6nXafLPZqxe9Of', album_type='compilation', label='Warner Music Group - X5 Music Group', album_image_url='https://i.scdn.co/image/ab67616d0000b273f42e6a067b35a658b051cab0', track_id='420MpQWSQ01a0BOMJ0X7JB', track_name='I Just Called', track_number=12, disc_number=1, duration_ms=150560, explicit=False, release_date='2022-09-16', total_tracks=50),\n",
       " Row(album_id='6Bi5Q5VIzGz0c6zatIVqLq', album_name=\"Victoria's Secret - Pop Bangers\", artist_id='0LyfQWJT6nXafLPZqxe9Of', album_type='compilation', label='Warner Music Group - X5 Music Group', album_image_url='https://i.scdn.co/image/ab67616d0000b273f42e6a067b35a658b051cab0', track_id='3q7oVnRWp85t1n1LKUSVYM', track_name='Running up That Hill', track_number=13, disc_number=1, duration_ms=170702, explicit=False, release_date='2022-09-16', total_tracks=50),\n",
       " Row(album_id='6Bi5Q5VIzGz0c6zatIVqLq', album_name=\"Victoria's Secret - Pop Bangers\", artist_id='0LyfQWJT6nXafLPZqxe9Of', album_type='compilation', label='Warner Music Group - X5 Music Group', album_image_url='https://i.scdn.co/image/ab67616d0000b273f42e6a067b35a658b051cab0', track_id='4YKAeEiSXgyLvr8lcgVXFs', track_name='MEAN!', track_number=14, disc_number=1, duration_ms=143957, explicit=False, release_date='2022-09-16', total_tracks=50),\n",
       " Row(album_id='6Bi5Q5VIzGz0c6zatIVqLq', album_name=\"Victoria's Secret - Pop Bangers\", artist_id='0LyfQWJT6nXafLPZqxe9Of', album_type='compilation', label='Warner Music Group - X5 Music Group', album_image_url='https://i.scdn.co/image/ab67616d0000b273f42e6a067b35a658b051cab0', track_id='1DjfyodRq3vB6XhFU8CgsN', track_name='Heaven', track_number=15, disc_number=1, duration_ms=153391, explicit=False, release_date='2022-09-16', total_tracks=50),\n",
       " Row(album_id='6Bi5Q5VIzGz0c6zatIVqLq', album_name=\"Victoria's Secret - Pop Bangers\", artist_id='0LyfQWJT6nXafLPZqxe9Of', album_type='compilation', label='Warner Music Group - X5 Music Group', album_image_url='https://i.scdn.co/image/ab67616d0000b273f42e6a067b35a658b051cab0', track_id='3kwA6WKVLuNLsG1wnLT6t0', track_name='Viva Las Vengeance', track_number=16, disc_number=1, duration_ms=206580, explicit=False, release_date='2022-09-16', total_tracks=50),\n",
       " Row(album_id='6Bi5Q5VIzGz0c6zatIVqLq', album_name=\"Victoria's Secret - Pop Bangers\", artist_id='0LyfQWJT6nXafLPZqxe9Of', album_type='compilation', label='Warner Music Group - X5 Music Group', album_image_url='https://i.scdn.co/image/ab67616d0000b273f42e6a067b35a658b051cab0', track_id='4UpOO1hq9H2HOgCaxCx18n', track_name='Afraid to Feel', track_number=17, disc_number=1, duration_ms=177524, explicit=False, release_date='2022-09-16', total_tracks=50),\n",
       " Row(album_id='6Bi5Q5VIzGz0c6zatIVqLq', album_name=\"Victoria's Secret - Pop Bangers\", artist_id='0LyfQWJT6nXafLPZqxe9Of', album_type='compilation', label='Warner Music Group - X5 Music Group', album_image_url='https://i.scdn.co/image/ab67616d0000b273f42e6a067b35a658b051cab0', track_id='4KDuJWCWyCtPXHaQVft2jk', track_name='die first', track_number=18, disc_number=1, duration_ms=177108, explicit=False, release_date='2022-09-16', total_tracks=50),\n",
       " Row(album_id='6Bi5Q5VIzGz0c6zatIVqLq', album_name=\"Victoria's Secret - Pop Bangers\", artist_id='0LyfQWJT6nXafLPZqxe9Of', album_type='compilation', label='Warner Music Group - X5 Music Group', album_image_url='https://i.scdn.co/image/ab67616d0000b273f42e6a067b35a658b051cab0', track_id='6cC11HRljgzjd2tSpVCgwj', track_name='Hot Shit', track_number=19, disc_number=1, duration_ms=211649, explicit=True, release_date='2022-09-16', total_tracks=50),\n",
       " Row(album_id='6Bi5Q5VIzGz0c6zatIVqLq', album_name=\"Victoria's Secret - Pop Bangers\", artist_id='0LyfQWJT6nXafLPZqxe9Of', album_type='compilation', label='Warner Music Group - X5 Music Group', album_image_url='https://i.scdn.co/image/ab67616d0000b273f42e6a067b35a658b051cab0', track_id='4tS1OdWaWFI2foPFo1IVfd', track_name='Charlie', track_number=20, disc_number=1, duration_ms=184797, explicit=False, release_date='2022-09-16', total_tracks=50),\n",
       " Row(album_id='6Bi5Q5VIzGz0c6zatIVqLq', album_name=\"Victoria's Secret - Pop Bangers\", artist_id='0LyfQWJT6nXafLPZqxe9Of', album_type='compilation', label='Warner Music Group - X5 Music Group', album_image_url='https://i.scdn.co/image/ab67616d0000b273f42e6a067b35a658b051cab0', track_id='3VCgJMWIgMLzJbt4gWVahc', track_name='All That Really Matters', track_number=21, disc_number=1, duration_ms=244235, explicit=False, release_date='2022-09-16', total_tracks=50),\n",
       " Row(album_id='6Bi5Q5VIzGz0c6zatIVqLq', album_name=\"Victoria's Secret - Pop Bangers\", artist_id='0LyfQWJT6nXafLPZqxe9Of', album_type='compilation', label='Warner Music Group - X5 Music Group', album_image_url='https://i.scdn.co/image/ab67616d0000b273f42e6a067b35a658b051cab0', track_id='00evpxQSIi3cDEnUPjoIrz', track_name='Finesse', track_number=22, disc_number=1, duration_ms=155293, explicit=False, release_date='2022-09-16', total_tracks=50),\n",
       " Row(album_id='6Bi5Q5VIzGz0c6zatIVqLq', album_name=\"Victoria's Secret - Pop Bangers\", artist_id='0LyfQWJT6nXafLPZqxe9Of', album_type='compilation', label='Warner Music Group - X5 Music Group', album_image_url='https://i.scdn.co/image/ab67616d0000b273f42e6a067b35a658b051cab0', track_id='4TiDYBs2d8tG5plfyooQPV', track_name='indieedgycool', track_number=23, disc_number=1, duration_ms=146769, explicit=True, release_date='2022-09-16', total_tracks=50),\n",
       " Row(album_id='6Bi5Q5VIzGz0c6zatIVqLq', album_name=\"Victoria's Secret - Pop Bangers\", artist_id='0LyfQWJT6nXafLPZqxe9Of', album_type='compilation', label='Warner Music Group - X5 Music Group', album_image_url='https://i.scdn.co/image/ab67616d0000b273f42e6a067b35a658b051cab0', track_id='5vYGez6smVTPaDCIPk5Ids', track_name='Big City Life', track_number=24, disc_number=1, duration_ms=146711, explicit=False, release_date='2022-09-16', total_tracks=50),\n",
       " Row(album_id='6Bi5Q5VIzGz0c6zatIVqLq', album_name=\"Victoria's Secret - Pop Bangers\", artist_id='0LyfQWJT6nXafLPZqxe9Of', album_type='compilation', label='Warner Music Group - X5 Music Group', album_image_url='https://i.scdn.co/image/ab67616d0000b273f42e6a067b35a658b051cab0', track_id='05bvcP9icuOFGnJS5l6kWQ', track_name='Dolls', track_number=25, disc_number=1, duration_ms=132793, explicit=False, release_date='2022-09-16', total_tracks=50),\n",
       " Row(album_id='6Bi5Q5VIzGz0c6zatIVqLq', album_name=\"Victoria's Secret - Pop Bangers\", artist_id='0LyfQWJT6nXafLPZqxe9Of', album_type='compilation', label='Warner Music Group - X5 Music Group', album_image_url='https://i.scdn.co/image/ab67616d0000b273f42e6a067b35a658b051cab0', track_id='6LJ2UlNZ97RmD19IiPVE0X', track_name='How Do You Love Somebody', track_number=26, disc_number=1, duration_ms=180065, explicit=True, release_date='2022-09-16', total_tracks=50),\n",
       " Row(album_id='6Bi5Q5VIzGz0c6zatIVqLq', album_name=\"Victoria's Secret - Pop Bangers\", artist_id='0LyfQWJT6nXafLPZqxe9Of', album_type='compilation', label='Warner Music Group - X5 Music Group', album_image_url='https://i.scdn.co/image/ab67616d0000b273f42e6a067b35a658b051cab0', track_id='43iAHci8kIlXzoE8i1UFhS', track_name='On Repeat', track_number=27, disc_number=1, duration_ms=190217, explicit=False, release_date='2022-09-16', total_tracks=50),\n",
       " Row(album_id='6Bi5Q5VIzGz0c6zatIVqLq', album_name=\"Victoria's Secret - Pop Bangers\", artist_id='0LyfQWJT6nXafLPZqxe9Of', album_type='compilation', label='Warner Music Group - X5 Music Group', album_image_url='https://i.scdn.co/image/ab67616d0000b273f42e6a067b35a658b051cab0', track_id='4g6oE9dcRc6bjZq7FHbZqM', track_name=\"Maybe You're the Problem\", track_number=28, disc_number=1, duration_ms=190318, explicit=False, release_date='2022-09-16', total_tracks=50),\n",
       " Row(album_id='6Bi5Q5VIzGz0c6zatIVqLq', album_name=\"Victoria's Secret - Pop Bangers\", artist_id='0LyfQWJT6nXafLPZqxe9Of', album_type='compilation', label='Warner Music Group - X5 Music Group', album_image_url='https://i.scdn.co/image/ab67616d0000b273f42e6a067b35a658b051cab0', track_id='6x5h9GayLiu0GsJp5e4WDw', track_name='Shivers', track_number=29, disc_number=1, duration_ms=207853, explicit=False, release_date='2022-09-16', total_tracks=50),\n",
       " Row(album_id='6Bi5Q5VIzGz0c6zatIVqLq', album_name=\"Victoria's Secret - Pop Bangers\", artist_id='0LyfQWJT6nXafLPZqxe9Of', album_type='compilation', label='Warner Music Group - X5 Music Group', album_image_url='https://i.scdn.co/image/ab67616d0000b273f42e6a067b35a658b051cab0', track_id='0zkbPoi3ZALPnhFJUcp2dd', track_name='Clarity', track_number=30, disc_number=1, duration_ms=227240, explicit=False, release_date='2022-09-16', total_tracks=50),\n",
       " Row(album_id='6Bi5Q5VIzGz0c6zatIVqLq', album_name=\"Victoria's Secret - Pop Bangers\", artist_id='0LyfQWJT6nXafLPZqxe9Of', album_type='compilation', label='Warner Music Group - X5 Music Group', album_image_url='https://i.scdn.co/image/ab67616d0000b273f42e6a067b35a658b051cab0', track_id='52odN9eZkEGKKc6450u8tf', track_name=\"Slidin'\", track_number=31, disc_number=1, duration_ms=156300, explicit=True, release_date='2022-09-16', total_tracks=50),\n",
       " Row(album_id='6Bi5Q5VIzGz0c6zatIVqLq', album_name=\"Victoria's Secret - Pop Bangers\", artist_id='0LyfQWJT6nXafLPZqxe9Of', album_type='compilation', label='Warner Music Group - X5 Music Group', album_image_url='https://i.scdn.co/image/ab67616d0000b273f42e6a067b35a658b051cab0', track_id='1efllsi8yUlQpQKfYNU3vq', track_name='Infinity', track_number=32, disc_number=1, duration_ms=237720, explicit=False, release_date='2022-09-16', total_tracks=50),\n",
       " Row(album_id='6Bi5Q5VIzGz0c6zatIVqLq', album_name=\"Victoria's Secret - Pop Bangers\", artist_id='0LyfQWJT6nXafLPZqxe9Of', album_type='compilation', label='Warner Music Group - X5 Music Group', album_image_url='https://i.scdn.co/image/ab67616d0000b273f42e6a067b35a658b051cab0', track_id='68XX7ycXJBmL5vNweWXPla', track_name='RIP, Love', track_number=33, disc_number=1, duration_ms=173942, explicit=False, release_date='2022-09-16', total_tracks=50),\n",
       " Row(album_id='6Bi5Q5VIzGz0c6zatIVqLq', album_name=\"Victoria's Secret - Pop Bangers\", artist_id='0LyfQWJT6nXafLPZqxe9Of', album_type='compilation', label='Warner Music Group - X5 Music Group', album_image_url='https://i.scdn.co/image/ab67616d0000b273f42e6a067b35a658b051cab0', track_id='4LbQhpswQwxwDcKi6RlzOr', track_name='Habits', track_number=34, disc_number=1, duration_ms=136733, explicit=False, release_date='2022-09-16', total_tracks=50),\n",
       " Row(album_id='6Bi5Q5VIzGz0c6zatIVqLq', album_name=\"Victoria's Secret - Pop Bangers\", artist_id='0LyfQWJT6nXafLPZqxe9Of', album_type='compilation', label='Warner Music Group - X5 Music Group', album_image_url='https://i.scdn.co/image/ab67616d0000b273f42e6a067b35a658b051cab0', track_id='0AlWeUwQTQar7OyA3Rs072', track_name='SPACE MAN', track_number=35, disc_number=1, duration_ms=217320, explicit=False, release_date='2022-09-16', total_tracks=50),\n",
       " Row(album_id='6Bi5Q5VIzGz0c6zatIVqLq', album_name=\"Victoria's Secret - Pop Bangers\", artist_id='0LyfQWJT6nXafLPZqxe9Of', album_type='compilation', label='Warner Music Group - X5 Music Group', album_image_url='https://i.scdn.co/image/ab67616d0000b273f42e6a067b35a658b051cab0', track_id='28UKTEwE2az29W1x9nfbm9', track_name='killer', track_number=36, disc_number=1, duration_ms=176876, explicit=False, release_date='2022-09-16', total_tracks=50),\n",
       " Row(album_id='6Bi5Q5VIzGz0c6zatIVqLq', album_name=\"Victoria's Secret - Pop Bangers\", artist_id='0LyfQWJT6nXafLPZqxe9Of', album_type='compilation', label='Warner Music Group - X5 Music Group', album_image_url='https://i.scdn.co/image/ab67616d0000b273f42e6a067b35a658b051cab0', track_id='53SyuVdAp62vGBvr4ItZrB', track_name=\"Can't Give Up\", track_number=37, disc_number=1, duration_ms=163628, explicit=False, release_date='2022-09-16', total_tracks=50),\n",
       " Row(album_id='6Bi5Q5VIzGz0c6zatIVqLq', album_name=\"Victoria's Secret - Pop Bangers\", artist_id='0LyfQWJT6nXafLPZqxe9Of', album_type='compilation', label='Warner Music Group - X5 Music Group', album_image_url='https://i.scdn.co/image/ab67616d0000b273f42e6a067b35a658b051cab0', track_id='1ulh1VlvQW8hM3C3aCM41e', track_name='Miss You', track_number=38, disc_number=1, duration_ms=206000, explicit=True, release_date='2022-09-16', total_tracks=50),\n",
       " Row(album_id='6Bi5Q5VIzGz0c6zatIVqLq', album_name=\"Victoria's Secret - Pop Bangers\", artist_id='0LyfQWJT6nXafLPZqxe9Of', album_type='compilation', label='Warner Music Group - X5 Music Group', album_image_url='https://i.scdn.co/image/ab67616d0000b273f42e6a067b35a658b051cab0', track_id='1m1O1QXLGNUYdQbGiDtkN8', track_name='2 Be Loved (Am I Ready)', track_number=39, disc_number=1, duration_ms=187107, explicit=True, release_date='2022-09-16', total_tracks=50),\n",
       " Row(album_id='6Bi5Q5VIzGz0c6zatIVqLq', album_name=\"Victoria's Secret - Pop Bangers\", artist_id='0LyfQWJT6nXafLPZqxe9Of', album_type='compilation', label='Warner Music Group - X5 Music Group', album_image_url='https://i.scdn.co/image/ab67616d0000b273f42e6a067b35a658b051cab0', track_id='6Bnk5lX8z51kS3aaAx0MqH', track_name='Give You Love', track_number=40, disc_number=1, duration_ms=173637, explicit=False, release_date='2022-09-16', total_tracks=50),\n",
       " Row(album_id='6Bi5Q5VIzGz0c6zatIVqLq', album_name=\"Victoria's Secret - Pop Bangers\", artist_id='0LyfQWJT6nXafLPZqxe9Of', album_type='compilation', label='Warner Music Group - X5 Music Group', album_image_url='https://i.scdn.co/image/ab67616d0000b273f42e6a067b35a658b051cab0', track_id='2ntQ6ZNGrDQgbTvNYnhBRq', track_name='All I Ever Asked', track_number=41, disc_number=1, duration_ms=215384, explicit=False, release_date='2022-09-16', total_tracks=50),\n",
       " Row(album_id='6Bi5Q5VIzGz0c6zatIVqLq', album_name=\"Victoria's Secret - Pop Bangers\", artist_id='0LyfQWJT6nXafLPZqxe9Of', album_type='compilation', label='Warner Music Group - X5 Music Group', album_image_url='https://i.scdn.co/image/ab67616d0000b273f42e6a067b35a658b051cab0', track_id='51zLvAKlsC1hemlwfGwBhw', track_name='WASABI', track_number=42, disc_number=1, duration_ms=167852, explicit=True, release_date='2022-09-16', total_tracks=50),\n",
       " Row(album_id='6Bi5Q5VIzGz0c6zatIVqLq', album_name=\"Victoria's Secret - Pop Bangers\", artist_id='0LyfQWJT6nXafLPZqxe9Of', album_type='compilation', label='Warner Music Group - X5 Music Group', album_image_url='https://i.scdn.co/image/ab67616d0000b273f42e6a067b35a658b051cab0', track_id='2Nly4l6Q4IltlPRfyY8wWm', track_name='for the girls', track_number=43, disc_number=1, duration_ms=158486, explicit=False, release_date='2022-09-16', total_tracks=50),\n",
       " Row(album_id='6Bi5Q5VIzGz0c6zatIVqLq', album_name=\"Victoria's Secret - Pop Bangers\", artist_id='0LyfQWJT6nXafLPZqxe9Of', album_type='compilation', label='Warner Music Group - X5 Music Group', album_image_url='https://i.scdn.co/image/ab67616d0000b273f42e6a067b35a658b051cab0', track_id='2Wo6fGXlfM0npWQnN3zg70', track_name='Archetype', track_number=44, disc_number=1, duration_ms=168828, explicit=False, release_date='2022-09-16', total_tracks=50),\n",
       " Row(album_id='6Bi5Q5VIzGz0c6zatIVqLq', album_name=\"Victoria's Secret - Pop Bangers\", artist_id='0LyfQWJT6nXafLPZqxe9Of', album_type='compilation', label='Warner Music Group - X5 Music Group', album_image_url='https://i.scdn.co/image/ab67616d0000b273f42e6a067b35a658b051cab0', track_id='2NOx7yBbWYVpiZQlxIcRWK', track_name='Beautiful Boy', track_number=45, disc_number=1, duration_ms=158656, explicit=False, release_date='2022-09-16', total_tracks=50),\n",
       " Row(album_id='6Bi5Q5VIzGz0c6zatIVqLq', album_name=\"Victoria's Secret - Pop Bangers\", artist_id='0LyfQWJT6nXafLPZqxe9Of', album_type='compilation', label='Warner Music Group - X5 Music Group', album_image_url='https://i.scdn.co/image/ab67616d0000b273f42e6a067b35a658b051cab0', track_id='5P4hpCZ9jVdw3e4kUBhlJu', track_name='Watching TV', track_number=46, disc_number=1, duration_ms=160677, explicit=False, release_date='2022-09-16', total_tracks=50),\n",
       " Row(album_id='6Bi5Q5VIzGz0c6zatIVqLq', album_name=\"Victoria's Secret - Pop Bangers\", artist_id='0LyfQWJT6nXafLPZqxe9Of', album_type='compilation', label='Warner Music Group - X5 Music Group', album_image_url='https://i.scdn.co/image/ab67616d0000b273f42e6a067b35a658b051cab0', track_id='65WnrPs7GwnvMZ3wITEVn5', track_name='Attention', track_number=47, disc_number=1, duration_ms=180563, explicit=False, release_date='2022-09-16', total_tracks=50),\n",
       " Row(album_id='6Bi5Q5VIzGz0c6zatIVqLq', album_name=\"Victoria's Secret - Pop Bangers\", artist_id='0LyfQWJT6nXafLPZqxe9Of', album_type='compilation', label='Warner Music Group - X5 Music Group', album_image_url='https://i.scdn.co/image/ab67616d0000b273f42e6a067b35a658b051cab0', track_id='4XCk5IYqtTxgsdfcy4Lzvg', track_name=\"Cate's Brother\", track_number=48, disc_number=1, duration_ms=180589, explicit=False, release_date='2022-09-16', total_tracks=50),\n",
       " Row(album_id='6Bi5Q5VIzGz0c6zatIVqLq', album_name=\"Victoria's Secret - Pop Bangers\", artist_id='0LyfQWJT6nXafLPZqxe9Of', album_type='compilation', label='Warner Music Group - X5 Music Group', album_image_url='https://i.scdn.co/image/ab67616d0000b273f42e6a067b35a658b051cab0', track_id='6EWh1I5rKeYv4xIH1eTDxT', track_name='NIGHTS LIKE THESE', track_number=49, disc_number=1, duration_ms=172514, explicit=False, release_date='2022-09-16', total_tracks=50),\n",
       " Row(album_id='6Bi5Q5VIzGz0c6zatIVqLq', album_name=\"Victoria's Secret - Pop Bangers\", artist_id='0LyfQWJT6nXafLPZqxe9Of', album_type='compilation', label='Warner Music Group - X5 Music Group', album_image_url='https://i.scdn.co/image/ab67616d0000b273f42e6a067b35a658b051cab0', track_id='4h9ocIhS6nGwIk7tmLPZwi', track_name='NOT AGAIN', track_number=50, disc_number=1, duration_ms=216661, explicit=False, release_date='2022-09-16', total_tracks=50),\n",
       " Row(album_id='5l1WChtDQQFQvKSMFfnaKD', album_name='My Big Day', artist_id='3pTE9iaJTkWns3mxpNQlJV', album_type='single', label='Mmm…Records Ltd', album_image_url='https://i.scdn.co/image/ab67616d0000b2730eddf34b82800009ee2eb375', track_id='5GXX6ynEUMy6FTJuyLviIb', track_name='My Big Day', track_number=1, disc_number=1, duration_ms=167492, explicit=False, release_date='2023-06-14', total_tracks=1),\n",
       " Row(album_id='5FSRhgzGRiuilD0okKKDct', album_name='Afraid of the Dark (hayve Remix)', artist_id='5mVWu2Ofpm2mlEpuMm3b4Q', album_type='single', label='Monstercat', album_image_url='https://i.scdn.co/image/ab67616d0000b27366ee3024acd0d5798ef400fe', track_id='6TGxVTSPgXV65MCYcaFf3P', track_name='Afraid of the Dark - hayve Remix', track_number=1, disc_number=1, duration_ms=244186, explicit=False, release_date='2022-12-12', total_tracks=1),\n",
       " Row(album_id='5FSRhgzGRiuilD0okKKDct', album_name='Afraid of the Dark (hayve Remix)', artist_id='6HT10ZbNJFIRYirBe3PTxs', album_type='single', label='Monstercat', album_image_url='https://i.scdn.co/image/ab67616d0000b27366ee3024acd0d5798ef400fe', track_id='6TGxVTSPgXV65MCYcaFf3P', track_name='Afraid of the Dark - hayve Remix', track_number=1, disc_number=1, duration_ms=244186, explicit=False, release_date='2022-12-12', total_tracks=1),\n",
       " Row(album_id='3BRZHiNQiv0t7x6kVuzFwq', album_name='House Party Jams', artist_id='0LyfQWJT6nXafLPZqxe9Of', album_type='compilation', label='UME - Global Clearing House', album_image_url='https://i.scdn.co/image/ab67616d0000b273b39dba67238e8bd2f979736e', track_id='4wGiGeq6eoPLWDCm8vvjvC', track_name='I Gotta Feeling', track_number=1, disc_number=1, duration_ms=289493, explicit=False, release_date='2019-03-22', total_tracks=38),\n",
       " Row(album_id='3BRZHiNQiv0t7x6kVuzFwq', album_name='House Party Jams', artist_id='0LyfQWJT6nXafLPZqxe9Of', album_type='compilation', label='UME - Global Clearing House', album_image_url='https://i.scdn.co/image/ab67616d0000b273b39dba67238e8bd2f979736e', track_id='22VGDB8LKN8AQlu0HSTEfd', track_name='No Diggity', track_number=2, disc_number=1, duration_ms=306760, explicit=False, release_date='2019-03-22', total_tracks=38),\n",
       " Row(album_id='3BRZHiNQiv0t7x6kVuzFwq', album_name='House Party Jams', artist_id='0LyfQWJT6nXafLPZqxe9Of', album_type='compilation', label='UME - Global Clearing House', album_image_url='https://i.scdn.co/image/ab67616d0000b273b39dba67238e8bd2f979736e', track_id='0gEqNcnuhZECOsMWQPJMm8', track_name='Down', track_number=3, disc_number=1, duration_ms=212773, explicit=False, release_date='2019-03-22', total_tracks=38),\n",
       " Row(album_id='3BRZHiNQiv0t7x6kVuzFwq', album_name='House Party Jams', artist_id='0LyfQWJT6nXafLPZqxe9Of', album_type='compilation', label='UME - Global Clearing House', album_image_url='https://i.scdn.co/image/ab67616d0000b273b39dba67238e8bd2f979736e', track_id='6ijrccAd133YeQM4XJ14Eu', track_name='Wannabe', track_number=4, disc_number=1, duration_ms=173026, explicit=False, release_date='2019-03-22', total_tracks=38),\n",
       " Row(album_id='3BRZHiNQiv0t7x6kVuzFwq', album_name='House Party Jams', artist_id='0LyfQWJT6nXafLPZqxe9Of', album_type='compilation', label='UME - Global Clearing House', album_image_url='https://i.scdn.co/image/ab67616d0000b273b39dba67238e8bd2f979736e', track_id='41kOdUYJOPwl8nAZr7dsts', track_name='Bumpy Ride', track_number=5, disc_number=1, duration_ms=225466, explicit=False, release_date='2019-03-22', total_tracks=38),\n",
       " Row(album_id='3BRZHiNQiv0t7x6kVuzFwq', album_name='House Party Jams', artist_id='0LyfQWJT6nXafLPZqxe9Of', album_type='compilation', label='UME - Global Clearing House', album_image_url='https://i.scdn.co/image/ab67616d0000b273b39dba67238e8bd2f979736e', track_id='1XGm4eXWQYzwpXeLEnMAYM', track_name=\"Don't Cha\", track_number=6, disc_number=1, duration_ms=272080, explicit=True, release_date='2019-03-22', total_tracks=38),\n",
       " Row(album_id='3BRZHiNQiv0t7x6kVuzFwq', album_name='House Party Jams', artist_id='0LyfQWJT6nXafLPZqxe9Of', album_type='compilation', label='UME - Global Clearing House', album_image_url='https://i.scdn.co/image/ab67616d0000b273b39dba67238e8bd2f979736e', track_id='4GJQqYJl7QbbufY3cSFmmy', track_name='Wake Me Up - Radio Edit', track_number=7, disc_number=1, duration_ms=246813, explicit=False, release_date='2019-03-22', total_tracks=38)]"
      ]
     },
     "execution_count": 13,
     "metadata": {},
     "output_type": "execute_result"
    }
   ],
   "source": [
    "df.head(60)"
   ]
  },
  {
   "cell_type": "code",
   "execution_count": null,
   "metadata": {},
   "outputs": [],
   "source": [
    "spark.stop()"
   ]
  }
 ],
 "metadata": {
  "kernelspec": {
   "display_name": "Python 3",
   "language": "python",
   "name": "python3"
  },
  "language_info": {
   "codemirror_mode": {
    "name": "ipython",
    "version": 3
   },
   "file_extension": ".py",
   "mimetype": "text/x-python",
   "name": "python",
   "nbconvert_exporter": "python",
   "pygments_lexer": "ipython3",
   "version": "3.10.12"
  },
  "orig_nbformat": 4
 },
 "nbformat": 4,
 "nbformat_minor": 2
}
