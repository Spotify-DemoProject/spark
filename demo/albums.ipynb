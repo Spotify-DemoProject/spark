{
 "cells": [
  {
   "cell_type": "code",
   "execution_count": 1,
   "metadata": {},
   "outputs": [
    {
     "name": "stderr",
     "output_type": "stream",
     "text": [
      "24/01/05 15:39:52 WARN Utils: Your hostname, workspace resolves to a loopback address: 127.0.0.1; using 220.118.158.128 instead (on interface eno1)\n",
      "24/01/05 15:39:52 WARN Utils: Set SPARK_LOCAL_IP if you need to bind to another address\n",
      "Setting default log level to \"WARN\".\n",
      "To adjust logging level use sc.setLogLevel(newLevel). For SparkR, use setLogLevel(newLevel).\n",
      "24/01/05 15:39:53 WARN NativeCodeLoader: Unable to load native-hadoop library for your platform... using builtin-java classes where applicable\n"
     ]
    }
   ],
   "source": [
    "from pyspark import SparkConf, SparkContext\n",
    "from pyspark.sql import SparkSession\n",
    "\n",
    "conf = SparkConf().setAppName(\"\").setMaster(\"spark://workspace:7077\")\n",
    "sparkContext = SparkContext(conf=conf)\n",
    "spark = SparkSession(sparkContext=sparkContext)"
   ]
  },
  {
   "cell_type": "code",
   "execution_count": 3,
   "metadata": {},
   "outputs": [],
   "source": [
    "from pyspark.sql.functions import expr, explode, col"
   ]
  },
  {
   "cell_type": "code",
   "execution_count": 4,
   "metadata": {},
   "outputs": [],
   "source": [
    "json_dir = \"file:///home/hooniegit/git/Spotify-DemoProject/fastapi/data/albums/2023-12-29\""
   ]
  },
  {
   "cell_type": "code",
   "execution_count": 5,
   "metadata": {},
   "outputs": [
    {
     "name": "stderr",
     "output_type": "stream",
     "text": [
      "                                                                                \r"
     ]
    },
    {
     "name": "stdout",
     "output_type": "stream",
     "text": [
      "root\n",
      " |-- albums: array (nullable = true)\n",
      " |    |-- element: struct (containsNull = true)\n",
      " |    |    |-- album_type: string (nullable = true)\n",
      " |    |    |-- artists: array (nullable = true)\n",
      " |    |    |    |-- element: struct (containsNull = true)\n",
      " |    |    |    |    |-- external_urls: struct (nullable = true)\n",
      " |    |    |    |    |    |-- spotify: string (nullable = true)\n",
      " |    |    |    |    |-- href: string (nullable = true)\n",
      " |    |    |    |    |-- id: string (nullable = true)\n",
      " |    |    |    |    |-- name: string (nullable = true)\n",
      " |    |    |    |    |-- type: string (nullable = true)\n",
      " |    |    |    |    |-- uri: string (nullable = true)\n",
      " |    |    |-- copyrights: array (nullable = true)\n",
      " |    |    |    |-- element: struct (containsNull = true)\n",
      " |    |    |    |    |-- text: string (nullable = true)\n",
      " |    |    |    |    |-- type: string (nullable = true)\n",
      " |    |    |-- external_ids: struct (nullable = true)\n",
      " |    |    |    |-- amgid: string (nullable = true)\n",
      " |    |    |    |-- upc: string (nullable = true)\n",
      " |    |    |-- external_urls: struct (nullable = true)\n",
      " |    |    |    |-- spotify: string (nullable = true)\n",
      " |    |    |-- genres: array (nullable = true)\n",
      " |    |    |    |-- element: string (containsNull = true)\n",
      " |    |    |-- href: string (nullable = true)\n",
      " |    |    |-- id: string (nullable = true)\n",
      " |    |    |-- images: array (nullable = true)\n",
      " |    |    |    |-- element: struct (containsNull = true)\n",
      " |    |    |    |    |-- height: long (nullable = true)\n",
      " |    |    |    |    |-- url: string (nullable = true)\n",
      " |    |    |    |    |-- width: long (nullable = true)\n",
      " |    |    |-- is_playable: boolean (nullable = true)\n",
      " |    |    |-- label: string (nullable = true)\n",
      " |    |    |-- name: string (nullable = true)\n",
      " |    |    |-- popularity: long (nullable = true)\n",
      " |    |    |-- release_date: string (nullable = true)\n",
      " |    |    |-- release_date_precision: string (nullable = true)\n",
      " |    |    |-- restrictions: struct (nullable = true)\n",
      " |    |    |    |-- reason: string (nullable = true)\n",
      " |    |    |-- total_tracks: long (nullable = true)\n",
      " |    |    |-- tracks: struct (nullable = true)\n",
      " |    |    |    |-- href: string (nullable = true)\n",
      " |    |    |    |-- items: array (nullable = true)\n",
      " |    |    |    |    |-- element: struct (containsNull = true)\n",
      " |    |    |    |    |    |-- artists: array (nullable = true)\n",
      " |    |    |    |    |    |    |-- element: struct (containsNull = true)\n",
      " |    |    |    |    |    |    |    |-- external_urls: struct (nullable = true)\n",
      " |    |    |    |    |    |    |    |    |-- spotify: string (nullable = true)\n",
      " |    |    |    |    |    |    |    |-- href: string (nullable = true)\n",
      " |    |    |    |    |    |    |    |-- id: string (nullable = true)\n",
      " |    |    |    |    |    |    |    |-- name: string (nullable = true)\n",
      " |    |    |    |    |    |    |    |-- type: string (nullable = true)\n",
      " |    |    |    |    |    |    |    |-- uri: string (nullable = true)\n",
      " |    |    |    |    |    |-- disc_number: long (nullable = true)\n",
      " |    |    |    |    |    |-- duration_ms: long (nullable = true)\n",
      " |    |    |    |    |    |-- explicit: boolean (nullable = true)\n",
      " |    |    |    |    |    |-- external_urls: struct (nullable = true)\n",
      " |    |    |    |    |    |    |-- spotify: string (nullable = true)\n",
      " |    |    |    |    |    |-- href: string (nullable = true)\n",
      " |    |    |    |    |    |-- id: string (nullable = true)\n",
      " |    |    |    |    |    |-- is_local: boolean (nullable = true)\n",
      " |    |    |    |    |    |-- is_playable: boolean (nullable = true)\n",
      " |    |    |    |    |    |-- linked_from: struct (nullable = true)\n",
      " |    |    |    |    |    |    |-- external_urls: struct (nullable = true)\n",
      " |    |    |    |    |    |    |    |-- spotify: string (nullable = true)\n",
      " |    |    |    |    |    |    |-- href: string (nullable = true)\n",
      " |    |    |    |    |    |    |-- id: string (nullable = true)\n",
      " |    |    |    |    |    |    |-- type: string (nullable = true)\n",
      " |    |    |    |    |    |    |-- uri: string (nullable = true)\n",
      " |    |    |    |    |    |-- name: string (nullable = true)\n",
      " |    |    |    |    |    |-- preview_url: string (nullable = true)\n",
      " |    |    |    |    |    |-- restrictions: struct (nullable = true)\n",
      " |    |    |    |    |    |    |-- reason: string (nullable = true)\n",
      " |    |    |    |    |    |-- track_number: long (nullable = true)\n",
      " |    |    |    |    |    |-- type: string (nullable = true)\n",
      " |    |    |    |    |    |-- uri: string (nullable = true)\n",
      " |    |    |    |-- limit: long (nullable = true)\n",
      " |    |    |    |-- next: string (nullable = true)\n",
      " |    |    |    |-- offset: long (nullable = true)\n",
      " |    |    |    |-- previous: string (nullable = true)\n",
      " |    |    |    |-- total: long (nullable = true)\n",
      " |    |    |-- type: string (nullable = true)\n",
      " |    |    |-- uri: string (nullable = true)\n",
      "\n"
     ]
    }
   ],
   "source": [
    "df = spark.read.option(\"multiline\", \"true\").json(json_dir)\n",
    "df.printSchema()"
   ]
  },
  {
   "cell_type": "code",
   "execution_count": 15,
   "metadata": {},
   "outputs": [
    {
     "name": "stderr",
     "output_type": "stream",
     "text": [
      "                                                                                \r"
     ]
    },
    {
     "name": "stdout",
     "output_type": "stream",
     "text": [
      "+--------------------+--------------------+--------------------+--------------------+--------------------+--------------------+-----------+--------+-----------+------------+\n",
      "|                  id|                name|           image_url|           artist_id|            track_id|          track_name|duration_ms|explicit|disc_number|track_number|\n",
      "+--------------------+--------------------+--------------------+--------------------+--------------------+--------------------+-----------+--------+-----------+------------+\n",
      "|6Bi5Q5VIzGz0c6zat...|Victoria's Secret...|https://i.scdn.co...|0LyfQWJT6nXafLPZq...|4FU8T0t7YASGlMaA8...|   Victoria's Secret|     176124|    true|          1|           1|\n",
      "|6Bi5Q5VIzGz0c6zat...|Victoria's Secret...|https://i.scdn.co...|0LyfQWJT6nXafLPZq...|6QEv2OySmn8WAjTlH...|      Left and Right|     154486|   false|          1|           2|\n",
      "|6Bi5Q5VIzGz0c6zat...|Victoria's Secret...|https://i.scdn.co...|0LyfQWJT6nXafLPZq...|5xBgTb41fF3Pa7KLP...|     About Damn Time|     191822|    true|          1|           3|\n",
      "|6Bi5Q5VIzGz0c6zat...|Victoria's Secret...|https://i.scdn.co...|0LyfQWJT6nXafLPZq...|1cAoRkY0VTnUmFGPq...|        In the Stars|     216410|   false|          1|           4|\n",
      "|6Bi5Q5VIzGz0c6zat...|Victoria's Secret...|https://i.scdn.co...|0LyfQWJT6nXafLPZq...|6PN2cMCEQJrOd8JHf...|Crazy What Love C...|     169756|   false|          1|           5|\n",
      "|6Bi5Q5VIzGz0c6zat...|Victoria's Secret...|https://i.scdn.co...|0LyfQWJT6nXafLPZq...|4K8IrKtN1kKHc9x9F...|               2step|     163449|   false|          1|           6|\n",
      "|6Bi5Q5VIzGz0c6zat...|Victoria's Secret...|https://i.scdn.co...|0LyfQWJT6nXafLPZq...|5hEExGnUZ2yUp7vKn...|           Hot In It|     129817|   false|          1|           7|\n",
      "|6Bi5Q5VIzGz0c6zat...|Victoria's Secret...|https://i.scdn.co...|0LyfQWJT6nXafLPZq...|6hJDVowI5TqwGZpNK...|           Last Last|     172342|   false|          1|           8|\n",
      "|6Bi5Q5VIzGz0c6zat...|Victoria's Secret...|https://i.scdn.co...|0LyfQWJT6nXafLPZq...|1cYHPHWKT6VTSHcaf...|          21 Reasons|     155253|   false|          1|           9|\n",
      "|6Bi5Q5VIzGz0c6zat...|Victoria's Secret...|https://i.scdn.co...|0LyfQWJT6nXafLPZq...|0bqV36NUeFw4hVEXW...|Devil Doesn't Bar...|     163613|   false|          1|          10|\n",
      "|6Bi5Q5VIzGz0c6zat...|Victoria's Secret...|https://i.scdn.co...|0LyfQWJT6nXafLPZq...|7x423NIUopefEgnb5...|         First Class|     173947|    true|          1|          11|\n",
      "|6Bi5Q5VIzGz0c6zat...|Victoria's Secret...|https://i.scdn.co...|0LyfQWJT6nXafLPZq...|420MpQWSQ01a0BOMJ...|       I Just Called|     150560|   false|          1|          12|\n",
      "|6Bi5Q5VIzGz0c6zat...|Victoria's Secret...|https://i.scdn.co...|0LyfQWJT6nXafLPZq...|3q7oVnRWp85t1n1LK...|Running up That Hill|     170702|   false|          1|          13|\n",
      "|6Bi5Q5VIzGz0c6zat...|Victoria's Secret...|https://i.scdn.co...|0LyfQWJT6nXafLPZq...|4YKAeEiSXgyLvr8lc...|               MEAN!|     143957|   false|          1|          14|\n",
      "|6Bi5Q5VIzGz0c6zat...|Victoria's Secret...|https://i.scdn.co...|0LyfQWJT6nXafLPZq...|1DjfyodRq3vB6XhFU...|              Heaven|     153391|   false|          1|          15|\n",
      "|6Bi5Q5VIzGz0c6zat...|Victoria's Secret...|https://i.scdn.co...|0LyfQWJT6nXafLPZq...|3kwA6WKVLuNLsG1wn...|  Viva Las Vengeance|     206580|   false|          1|          16|\n",
      "|6Bi5Q5VIzGz0c6zat...|Victoria's Secret...|https://i.scdn.co...|0LyfQWJT6nXafLPZq...|4UpOO1hq9H2HOgCax...|      Afraid to Feel|     177524|   false|          1|          17|\n",
      "|6Bi5Q5VIzGz0c6zat...|Victoria's Secret...|https://i.scdn.co...|0LyfQWJT6nXafLPZq...|4KDuJWCWyCtPXHaQV...|           die first|     177108|   false|          1|          18|\n",
      "|6Bi5Q5VIzGz0c6zat...|Victoria's Secret...|https://i.scdn.co...|0LyfQWJT6nXafLPZq...|6cC11HRljgzjd2tSp...|            Hot Shit|     211649|    true|          1|          19|\n",
      "|6Bi5Q5VIzGz0c6zat...|Victoria's Secret...|https://i.scdn.co...|0LyfQWJT6nXafLPZq...|4tS1OdWaWFI2foPFo...|             Charlie|     184797|   false|          1|          20|\n",
      "+--------------------+--------------------+--------------------+--------------------+--------------------+--------------------+-----------+--------+-----------+------------+\n",
      "only showing top 20 rows\n",
      "\n"
     ]
    }
   ],
   "source": [
    "df = spark.read.option(\"multiline\", \"true\").json(json_dir) \\\n",
    "    .withColumn(\"albums\", explode(\"albums\")) \\\n",
    "    .withColumn(\"images\", explode(\"albums.images\")) \\\n",
    "    .filter(\"images.height = 640\") \\\n",
    "    .withColumn(\"tracks\", explode(\"albums.tracks.items\")) \\\n",
    "    .withColumn(\"artists\", explode(\"albums.artists\")) \\\n",
    "    .selectExpr(\n",
    "        \"albums.id\",\n",
    "        \"albums.name\",\n",
    "        \"images.url as image_url\",\n",
    "        \"artists.id as artist_id\",\n",
    "        \"tracks.id as track_id\",\n",
    "        \"tracks.name as track_name\",\n",
    "        \"tracks.duration_ms as duration_ms\",\n",
    "        \"tracks.explicit as explicit\",\n",
    "        \"tracks.disc_number as disc_number\",\n",
    "        \"tracks.track_number as track_number\",\n",
    "    )\n",
    "\n",
    "df.show()"
   ]
  },
  {
   "cell_type": "code",
   "execution_count": 16,
   "metadata": {},
   "outputs": [],
   "source": [
    "spark.stop()"
   ]
  }
 ],
 "metadata": {
  "kernelspec": {
   "display_name": "Python 3",
   "language": "python",
   "name": "python3"
  },
  "language_info": {
   "codemirror_mode": {
    "name": "ipython",
    "version": 3
   },
   "file_extension": ".py",
   "mimetype": "text/x-python",
   "name": "python",
   "nbconvert_exporter": "python",
   "pygments_lexer": "ipython3",
   "version": "3.10.12"
  },
  "orig_nbformat": 4
 },
 "nbformat": 4,
 "nbformat_minor": 2
}
