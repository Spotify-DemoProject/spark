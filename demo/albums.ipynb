{
 "cells": [
  {
   "cell_type": "code",
   "execution_count": 20,
   "metadata": {},
   "outputs": [],
   "source": [
    "from pyspark import SparkConf, SparkContext\n",
    "from pyspark.sql import SparkSession\n",
    "\n",
    "conf = SparkConf().setAppName(\"\").setMaster(\"spark://workspace:7077\")\n",
    "sparkContext = SparkContext(conf=conf)\n",
    "spark = SparkSession(sparkContext=sparkContext)"
   ]
  },
  {
   "cell_type": "code",
   "execution_count": 21,
   "metadata": {},
   "outputs": [],
   "source": [
    "from pyspark.sql.functions import expr, explode, col"
   ]
  },
  {
   "cell_type": "code",
   "execution_count": 22,
   "metadata": {},
   "outputs": [],
   "source": [
    "json_dir = \"file:///home/hooniegit/git/Spotify-DemoProject/fastapi/data/albums/2023-12-25\""
   ]
  },
  {
   "cell_type": "code",
   "execution_count": 24,
   "metadata": {},
   "outputs": [
    {
     "name": "stderr",
     "output_type": "stream",
     "text": [
      "[Stage 3:>                                                          (0 + 1) / 1]\r"
     ]
    },
    {
     "name": "stdout",
     "output_type": "stream",
     "text": [
      "+--------------------+--------------------+--------------------+----------+----------------+--------------------+--------------------+------------+------------+------------+\n",
      "|            album_id|          album_name|           artist_id|album_type|           label|     album_image_url|            track_id|track_number|release_date|total_tracks|\n",
      "+--------------------+--------------------+--------------------+----------+----------------+--------------------+--------------------+------------+------------+------------+\n",
      "|4SCIQ7NM7yz5WSI8s...|Ambition: A Minue...|4gj7FWGd7QhXoULkN...|     album|John Robert Matz|https://i.scdn.co...|6ptRtl1hZV5v59PNj...|           1|  2022-05-24|          58|\n",
      "|4SCIQ7NM7yz5WSI8s...|Ambition: A Minue...|4gj7FWGd7QhXoULkN...|     album|John Robert Matz|https://i.scdn.co...|6C7tvVBxfdw2KoyhM...|           2|  2022-05-24|          58|\n",
      "|4SCIQ7NM7yz5WSI8s...|Ambition: A Minue...|4gj7FWGd7QhXoULkN...|     album|John Robert Matz|https://i.scdn.co...|6dyYUsUcAA2KWSAmx...|           3|  2022-05-24|          58|\n",
      "|4SCIQ7NM7yz5WSI8s...|Ambition: A Minue...|4gj7FWGd7QhXoULkN...|     album|John Robert Matz|https://i.scdn.co...|3UbQqu5P25M9CBZzN...|           4|  2022-05-24|          58|\n",
      "|4SCIQ7NM7yz5WSI8s...|Ambition: A Minue...|4gj7FWGd7QhXoULkN...|     album|John Robert Matz|https://i.scdn.co...|2okZiD0021iJqmuQe...|           5|  2022-05-24|          58|\n",
      "|4SCIQ7NM7yz5WSI8s...|Ambition: A Minue...|4gj7FWGd7QhXoULkN...|     album|John Robert Matz|https://i.scdn.co...|7cPeOKpOwz2XXXHtM...|           6|  2022-05-24|          58|\n",
      "|4SCIQ7NM7yz5WSI8s...|Ambition: A Minue...|4gj7FWGd7QhXoULkN...|     album|John Robert Matz|https://i.scdn.co...|2v5vKiMQoVPFBtQjY...|           7|  2022-05-24|          58|\n",
      "|4SCIQ7NM7yz5WSI8s...|Ambition: A Minue...|4gj7FWGd7QhXoULkN...|     album|John Robert Matz|https://i.scdn.co...|4YN4KU2vG0nA7S1GV...|           8|  2022-05-24|          58|\n",
      "|4SCIQ7NM7yz5WSI8s...|Ambition: A Minue...|4gj7FWGd7QhXoULkN...|     album|John Robert Matz|https://i.scdn.co...|2dp4BJlYIHniudiKL...|           9|  2022-05-24|          58|\n",
      "|4SCIQ7NM7yz5WSI8s...|Ambition: A Minue...|4gj7FWGd7QhXoULkN...|     album|John Robert Matz|https://i.scdn.co...|3JdSOiLqnwRbXxfA2...|          10|  2022-05-24|          58|\n",
      "|4SCIQ7NM7yz5WSI8s...|Ambition: A Minue...|4gj7FWGd7QhXoULkN...|     album|John Robert Matz|https://i.scdn.co...|1B5pczFNSFwrUomyr...|          11|  2022-05-24|          58|\n",
      "|4SCIQ7NM7yz5WSI8s...|Ambition: A Minue...|4gj7FWGd7QhXoULkN...|     album|John Robert Matz|https://i.scdn.co...|2IDqDH2mQ7DBmVHkk...|          12|  2022-05-24|          58|\n",
      "|4SCIQ7NM7yz5WSI8s...|Ambition: A Minue...|4gj7FWGd7QhXoULkN...|     album|John Robert Matz|https://i.scdn.co...|2UTSlerqVRnfmIeRd...|          13|  2022-05-24|          58|\n",
      "|4SCIQ7NM7yz5WSI8s...|Ambition: A Minue...|4gj7FWGd7QhXoULkN...|     album|John Robert Matz|https://i.scdn.co...|1L57SOr4B1BGyrDoq...|          14|  2022-05-24|          58|\n",
      "|4SCIQ7NM7yz5WSI8s...|Ambition: A Minue...|4gj7FWGd7QhXoULkN...|     album|John Robert Matz|https://i.scdn.co...|6tygjgUFf30aFrbAy...|          15|  2022-05-24|          58|\n",
      "|4SCIQ7NM7yz5WSI8s...|Ambition: A Minue...|4gj7FWGd7QhXoULkN...|     album|John Robert Matz|https://i.scdn.co...|1seQVlDvTJM9rJljw...|          16|  2022-05-24|          58|\n",
      "|4SCIQ7NM7yz5WSI8s...|Ambition: A Minue...|4gj7FWGd7QhXoULkN...|     album|John Robert Matz|https://i.scdn.co...|4UqBjosAGU5VqlXx1...|          17|  2022-05-24|          58|\n",
      "|4SCIQ7NM7yz5WSI8s...|Ambition: A Minue...|4gj7FWGd7QhXoULkN...|     album|John Robert Matz|https://i.scdn.co...|33p2b38JEmJrY2cUe...|          18|  2022-05-24|          58|\n",
      "|4SCIQ7NM7yz5WSI8s...|Ambition: A Minue...|4gj7FWGd7QhXoULkN...|     album|John Robert Matz|https://i.scdn.co...|0MFovZxFSOoGe4upa...|          19|  2022-05-24|          58|\n",
      "|4SCIQ7NM7yz5WSI8s...|Ambition: A Minue...|4gj7FWGd7QhXoULkN...|     album|John Robert Matz|https://i.scdn.co...|3CM1PqzK8iYuTtZvM...|          20|  2022-05-24|          58|\n",
      "+--------------------+--------------------+--------------------+----------+----------------+--------------------+--------------------+------------+------------+------------+\n",
      "only showing top 20 rows\n",
      "\n"
     ]
    },
    {
     "name": "stderr",
     "output_type": "stream",
     "text": [
      "                                                                                \r"
     ]
    }
   ],
   "source": [
    "df = spark.read.option(\"multiline\", \"true\").json(json_dir) \\\n",
    "    .withColumn(\"image\", explode(expr(\"images\"))) \\\n",
    "    .filter(col(\"image.height\") == 640) \\\n",
    "    .withColumn(\"artist_id\", explode(expr(\"artists.id\"))) \\\n",
    "    .withColumn(\"album_id\", expr(\"id\")) \\\n",
    "    .withColumn(\"album_name\", expr(\"name\")) \\\n",
    "    .withColumn(\"album_image_url\", expr(\"image.url\")) \\\n",
    "    .withColumn(\"track\", explode(expr(\"tracks.items\"))) \\\n",
    "    .withColumn(\"track_id\", expr(\"track.id\")) \\\n",
    "    .withColumn(\"disc_number\", expr(\"track.disc_number\")) \\\n",
    "    .withColumn(\"track_number\", expr(\"track.track_number\")) \\\n",
    "    .select(\"album_id\", \"album_name\", \"artist_id\", \"album_type\", \"label\", \"album_image_url\", \"track_id\", \"track_number\", \"release_date\", \"total_tracks\")\n",
    "\n",
    "df.show()"
   ]
  },
  {
   "cell_type": "code",
   "execution_count": 25,
   "metadata": {},
   "outputs": [],
   "source": [
    "spark.stop()"
   ]
  }
 ],
 "metadata": {
  "kernelspec": {
   "display_name": "Python 3",
   "language": "python",
   "name": "python3"
  },
  "language_info": {
   "codemirror_mode": {
    "name": "ipython",
    "version": 3
   },
   "file_extension": ".py",
   "mimetype": "text/x-python",
   "name": "python",
   "nbconvert_exporter": "python",
   "pygments_lexer": "ipython3",
   "version": "3.12.1"
  },
  "orig_nbformat": 4
 },
 "nbformat": 4,
 "nbformat_minor": 2
}
