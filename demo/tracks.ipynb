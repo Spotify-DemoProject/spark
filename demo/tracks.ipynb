{
 "cells": [
  {
   "cell_type": "code",
   "execution_count": 1,
   "metadata": {},
   "outputs": [
    {
     "name": "stderr",
     "output_type": "stream",
     "text": [
      "23/12/27 01:35:52 WARN Utils: Your hostname, workspace resolves to a loopback address: 127.0.0.1; using 220.118.158.128 instead (on interface eno1)\n",
      "23/12/27 01:35:53 WARN Utils: Set SPARK_LOCAL_IP if you need to bind to another address\n",
      "Setting default log level to \"WARN\".\n",
      "To adjust logging level use sc.setLogLevel(newLevel). For SparkR, use setLogLevel(newLevel).\n",
      "23/12/27 01:35:54 WARN NativeCodeLoader: Unable to load native-hadoop library for your platform... using builtin-java classes where applicable\n"
     ]
    }
   ],
   "source": [
    "from pyspark import SparkConf, SparkContext\n",
    "from pyspark.sql import SparkSession\n",
    "\n",
    "conf = SparkConf().setAppName(\"\").setMaster(\"spark://workspace:7077\")\n",
    "sparkContext = SparkContext(conf=conf)\n",
    "spark = SparkSession(sparkContext=sparkContext)"
   ]
  },
  {
   "cell_type": "code",
   "execution_count": 2,
   "metadata": {},
   "outputs": [],
   "source": [
    "from pyspark.sql.functions import expr, explode, col"
   ]
  },
  {
   "cell_type": "code",
   "execution_count": 3,
   "metadata": {},
   "outputs": [],
   "source": [
    "json_dir = \"file:///home/hooniegit/git/Spotify-DemoProject/fastapi/data/tracks/2023-12-25\""
   ]
  },
  {
   "cell_type": "code",
   "execution_count": 4,
   "metadata": {},
   "outputs": [
    {
     "name": "stderr",
     "output_type": "stream",
     "text": [
      "                                                                                \r"
     ]
    }
   ],
   "source": [
    "df = spark.read.option(\"multiline\", \"true\").json(json_dir) \\\n",
    "    .withColumn(\"track_id\", expr(\"id\")) \\\n",
    "    .withColumn(\"track_name\", expr(\"name\")) \\\n",
    "    .withColumn(\"artist_id\", explode(expr(\"artists.id\"))) \\\n",
    "    .select(\"track_id\", \"track_name\", \"artist_id\", \"duration_ms\", \"explicit\")"
   ]
  },
  {
   "cell_type": "code",
   "execution_count": 7,
   "metadata": {},
   "outputs": [
    {
     "name": "stderr",
     "output_type": "stream",
     "text": [
      "[Stage 2:>                                                          (0 + 1) / 1]\r"
     ]
    },
    {
     "name": "stdout",
     "output_type": "stream",
     "text": [
      "+--------------------+--------------------+--------------------+-----------+--------+\n",
      "|            track_id|          track_name|           artist_id|duration_ms|explicit|\n",
      "+--------------------+--------------------+--------------------+-----------+--------+\n",
      "|5A5PorLfUhaJ1xfsm...|We Got This Together|0Do4W4pX9MGQgAHF7...|     212733|   false|\n",
      "|5A5PorLfUhaJ1xfsm...|We Got This Together|53CQUfjaBNRwV2nFr...|     212733|   false|\n",
      "|5A5PorLfUhaJ1xfsm...|We Got This Together|1r0v3fdCiqrr9mYtv...|     212733|   false|\n",
      "|5A5PorLfUhaJ1xfsm...|We Got This Together|0iKnctG436f9uUKSu...|     212733|   false|\n",
      "|5A5PorLfUhaJ1xfsm...|We Got This Together|2KL1HTA8ijZSuf7VJ...|     212733|   false|\n",
      "|5A5PorLfUhaJ1xfsm...|We Got This Together|7ExZeMNpyKhYSokWo...|     212733|   false|\n",
      "|5A5PorLfUhaJ1xfsm...|We Got This Together|6PqIHmHPCKrZoyLMf...|     212733|   false|\n",
      "|5A5PorLfUhaJ1xfsm...|We Got This Together|7ggsXdK95oJBkuZu1...|     212733|   false|\n",
      "|5A5PorLfUhaJ1xfsm...|We Got This Together|1sWcS4KuGX7rTySH0...|     212733|   false|\n",
      "|5A5PorLfUhaJ1xfsm...|We Got This Together|2KQnoAzy2XrCcuwzO...|     212733|   false|\n",
      "|5A5PorLfUhaJ1xfsm...|We Got This Together|3snGdWa15ZvK88bB8...|     212733|   false|\n",
      "|6RAble6bbdfsrfHLD...|  Time to Be Awesome|7ExZeMNpyKhYSokWo...|     174173|   false|\n",
      "|6RAble6bbdfsrfHLD...|  Time to Be Awesome|0iKnctG436f9uUKSu...|     174173|   false|\n",
      "|6RAble6bbdfsrfHLD...|  Time to Be Awesome|2KL1HTA8ijZSuf7VJ...|     174173|   false|\n",
      "|6RAble6bbdfsrfHLD...|  Time to Be Awesome|6PqIHmHPCKrZoyLMf...|     174173|   false|\n",
      "|6RAble6bbdfsrfHLD...|  Time to Be Awesome|1r0v3fdCiqrr9mYtv...|     174173|   false|\n",
      "|6RAble6bbdfsrfHLD...|  Time to Be Awesome|3snGdWa15ZvK88bB8...|     174173|   false|\n",
      "|6RAble6bbdfsrfHLD...|  Time to Be Awesome|2x5uKlXEZRo9hSA1k...|     174173|   false|\n",
      "|6RAble6bbdfsrfHLD...|  Time to Be Awesome|2CSaxlX67MAzGwl2g...|     174173|   false|\n",
      "|6RAble6bbdfsrfHLD...|  Time to Be Awesome|0fDHQnHsX4fuFeXUA...|     174173|   false|\n",
      "+--------------------+--------------------+--------------------+-----------+--------+\n",
      "only showing top 20 rows\n",
      "\n"
     ]
    },
    {
     "name": "stderr",
     "output_type": "stream",
     "text": [
      "                                                                                \r"
     ]
    }
   ],
   "source": [
    "df_2 = df \\\n",
    "    .withColumn(\"track_id\", expr(\"id\")) \\\n",
    "    .withColumn(\"track_name\", expr(\"name\")) \\\n",
    "    .withColumn(\"artist_id\", explode(expr(\"artists.id\"))) \\\n",
    "    .select(\"track_id\", \"track_name\", \"artist_id\", \"duration_ms\", \"explicit\")\n",
    "    \n",
    "df_2.show()"
   ]
  },
  {
   "cell_type": "code",
   "execution_count": 8,
   "metadata": {},
   "outputs": [
    {
     "name": "stderr",
     "output_type": "stream",
     "text": [
      "23/12/27 01:46:04 WARN NioEventLoop: Selector.select() returned prematurely 512 times in a row; rebuilding Selector io.netty.channel.nio.SelectedSelectionKeySetSelector@3f79796d.\n"
     ]
    }
   ],
   "source": [
    "spark.stop()"
   ]
  }
 ],
 "metadata": {
  "kernelspec": {
   "display_name": "Python 3",
   "language": "python",
   "name": "python3"
  },
  "language_info": {
   "codemirror_mode": {
    "name": "ipython",
    "version": 3
   },
   "file_extension": ".py",
   "mimetype": "text/x-python",
   "name": "python",
   "nbconvert_exporter": "python",
   "pygments_lexer": "ipython3",
   "version": "3.12.1"
  },
  "orig_nbformat": 4
 },
 "nbformat": 4,
 "nbformat_minor": 2
}
