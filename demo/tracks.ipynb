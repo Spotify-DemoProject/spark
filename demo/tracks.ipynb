{
 "cells": [
  {
   "cell_type": "code",
   "execution_count": 1,
   "metadata": {},
   "outputs": [
    {
     "name": "stderr",
     "output_type": "stream",
     "text": [
      "24/01/05 15:02:07 WARN Utils: Your hostname, workspace resolves to a loopback address: 127.0.0.1; using 220.118.158.128 instead (on interface eno1)\n",
      "24/01/05 15:02:07 WARN Utils: Set SPARK_LOCAL_IP if you need to bind to another address\n",
      "Setting default log level to \"WARN\".\n",
      "To adjust logging level use sc.setLogLevel(newLevel). For SparkR, use setLogLevel(newLevel).\n",
      "24/01/05 15:02:08 WARN NativeCodeLoader: Unable to load native-hadoop library for your platform... using builtin-java classes where applicable\n"
     ]
    }
   ],
   "source": [
    "from pyspark import SparkConf, SparkContext\n",
    "from pyspark.sql import SparkSession\n",
    "\n",
    "conf = SparkConf().setAppName(\"\").setMaster(\"spark://workspace:7077\")\n",
    "sparkContext = SparkContext(conf=conf)\n",
    "spark = SparkSession(sparkContext=sparkContext)"
   ]
  },
  {
   "cell_type": "code",
   "execution_count": 2,
   "metadata": {},
   "outputs": [],
   "source": [
    "from pyspark.sql.functions import expr, explode, col"
   ]
  },
  {
   "cell_type": "code",
   "execution_count": 5,
   "metadata": {},
   "outputs": [],
   "source": [
    "json_dir = \"file:///home/hooniegit/git/Spotify-DemoProject/fastapi/data/tracks/main/2024-01-02\""
   ]
  },
  {
   "cell_type": "code",
   "execution_count": 6,
   "metadata": {},
   "outputs": [
    {
     "name": "stderr",
     "output_type": "stream",
     "text": [
      "[Stage 2:====================================================>    (38 + 3) / 41]\r"
     ]
    },
    {
     "name": "stdout",
     "output_type": "stream",
     "text": [
      "root\n",
      " |-- tracks: array (nullable = true)\n",
      " |    |-- element: struct (containsNull = true)\n",
      " |    |    |-- album: struct (nullable = true)\n",
      " |    |    |    |-- album_type: string (nullable = true)\n",
      " |    |    |    |-- artists: array (nullable = true)\n",
      " |    |    |    |    |-- element: struct (containsNull = true)\n",
      " |    |    |    |    |    |-- external_urls: struct (nullable = true)\n",
      " |    |    |    |    |    |    |-- spotify: string (nullable = true)\n",
      " |    |    |    |    |    |-- href: string (nullable = true)\n",
      " |    |    |    |    |    |-- id: string (nullable = true)\n",
      " |    |    |    |    |    |-- name: string (nullable = true)\n",
      " |    |    |    |    |    |-- type: string (nullable = true)\n",
      " |    |    |    |    |    |-- uri: string (nullable = true)\n",
      " |    |    |    |-- external_urls: struct (nullable = true)\n",
      " |    |    |    |    |-- spotify: string (nullable = true)\n",
      " |    |    |    |-- href: string (nullable = true)\n",
      " |    |    |    |-- id: string (nullable = true)\n",
      " |    |    |    |-- images: array (nullable = true)\n",
      " |    |    |    |    |-- element: struct (containsNull = true)\n",
      " |    |    |    |    |    |-- height: long (nullable = true)\n",
      " |    |    |    |    |    |-- url: string (nullable = true)\n",
      " |    |    |    |    |    |-- width: long (nullable = true)\n",
      " |    |    |    |-- is_playable: boolean (nullable = true)\n",
      " |    |    |    |-- name: string (nullable = true)\n",
      " |    |    |    |-- release_date: string (nullable = true)\n",
      " |    |    |    |-- release_date_precision: string (nullable = true)\n",
      " |    |    |    |-- restrictions: struct (nullable = true)\n",
      " |    |    |    |    |-- reason: string (nullable = true)\n",
      " |    |    |    |-- total_tracks: long (nullable = true)\n",
      " |    |    |    |-- type: string (nullable = true)\n",
      " |    |    |    |-- uri: string (nullable = true)\n",
      " |    |    |-- artists: array (nullable = true)\n",
      " |    |    |    |-- element: struct (containsNull = true)\n",
      " |    |    |    |    |-- external_urls: struct (nullable = true)\n",
      " |    |    |    |    |    |-- spotify: string (nullable = true)\n",
      " |    |    |    |    |-- href: string (nullable = true)\n",
      " |    |    |    |    |-- id: string (nullable = true)\n",
      " |    |    |    |    |-- name: string (nullable = true)\n",
      " |    |    |    |    |-- type: string (nullable = true)\n",
      " |    |    |    |    |-- uri: string (nullable = true)\n",
      " |    |    |-- disc_number: long (nullable = true)\n",
      " |    |    |-- duration_ms: long (nullable = true)\n",
      " |    |    |-- explicit: boolean (nullable = true)\n",
      " |    |    |-- external_ids: struct (nullable = true)\n",
      " |    |    |    |-- isrc: string (nullable = true)\n",
      " |    |    |-- external_urls: struct (nullable = true)\n",
      " |    |    |    |-- spotify: string (nullable = true)\n",
      " |    |    |-- href: string (nullable = true)\n",
      " |    |    |-- id: string (nullable = true)\n",
      " |    |    |-- is_local: boolean (nullable = true)\n",
      " |    |    |-- is_playable: boolean (nullable = true)\n",
      " |    |    |-- linked_from: struct (nullable = true)\n",
      " |    |    |    |-- external_urls: struct (nullable = true)\n",
      " |    |    |    |    |-- spotify: string (nullable = true)\n",
      " |    |    |    |-- href: string (nullable = true)\n",
      " |    |    |    |-- id: string (nullable = true)\n",
      " |    |    |    |-- type: string (nullable = true)\n",
      " |    |    |    |-- uri: string (nullable = true)\n",
      " |    |    |-- name: string (nullable = true)\n",
      " |    |    |-- popularity: long (nullable = true)\n",
      " |    |    |-- preview_url: string (nullable = true)\n",
      " |    |    |-- restrictions: struct (nullable = true)\n",
      " |    |    |    |-- reason: string (nullable = true)\n",
      " |    |    |-- track_number: long (nullable = true)\n",
      " |    |    |-- type: string (nullable = true)\n",
      " |    |    |-- uri: string (nullable = true)\n",
      "\n"
     ]
    },
    {
     "name": "stderr",
     "output_type": "stream",
     "text": [
      "                                                                                \r"
     ]
    }
   ],
   "source": [
    "df = spark.read.option(\"multiline\", \"true\").json(json_dir)\n",
    "df.printSchema()"
   ]
  },
  {
   "cell_type": "code",
   "execution_count": 12,
   "metadata": {},
   "outputs": [
    {
     "name": "stderr",
     "output_type": "stream",
     "text": [
      "[Stage 6:>                                                          (0 + 1) / 1]\r"
     ]
    },
    {
     "name": "stdout",
     "output_type": "stream",
     "text": [
      "+--------------------+----------+\n",
      "|                  id|popularity|\n",
      "+--------------------+----------+\n",
      "|4wJv1rPXHWQhPWrzU...|         0|\n",
      "|77XGCJE1Mf1VJoHXA...|         0|\n",
      "|1uAZUQRPH4bK1KA7H...|         7|\n",
      "|1PRlXKWrkTfXBqAnN...|        15|\n",
      "|63h701FXhjRsXeA31...|         0|\n",
      "|5yVQWtgxkY3BvvM2H...|         0|\n",
      "|4JWLPGhcp6uvza7tE...|         0|\n",
      "|5yVrb8DnVArJx6IZW...|         0|\n",
      "|38K21nF4zFJfftaKY...|        11|\n",
      "|6GxNHJd1vuRImHckJ...|         0|\n",
      "|4N5iFTOUWrqvCJj5T...|        24|\n",
      "|1MDkMu6fH1IIpkH3j...|        23|\n",
      "|3ToQ1PhuVQs9I4W5P...|         0|\n",
      "|2aOvfAWnsmz8ezrcO...|         0|\n",
      "|0Xe18AwMCCHoZTo7p...|         1|\n",
      "|0tZVeBj8bFiXdPBE4...|        18|\n",
      "|1m5u60fnqttwahNRi...|         0|\n",
      "|18ikxxV8lGIMYoLec...|         0|\n",
      "|0eyfnsfvLITFrxNEE...|         0|\n",
      "|4LsQat0vzsadGIFvW...|        18|\n",
      "+--------------------+----------+\n",
      "only showing top 20 rows\n",
      "\n"
     ]
    },
    {
     "name": "stderr",
     "output_type": "stream",
     "text": [
      "                                                                                \r"
     ]
    }
   ],
   "source": [
    "df_new = df \\\n",
    "    .withColumn(\"tracks\", explode(\"tracks\")) \\\n",
    "    .selectExpr(\"tracks.id\",\n",
    "                \"tracks.popularity\")\n",
    "df_new.show()"
   ]
  },
  {
   "cell_type": "code",
   "execution_count": 13,
   "metadata": {},
   "outputs": [],
   "source": [
    "spark.stop()"
   ]
  }
 ],
 "metadata": {
  "kernelspec": {
   "display_name": "Python 3",
   "language": "python",
   "name": "python3"
  },
  "language_info": {
   "codemirror_mode": {
    "name": "ipython",
    "version": 3
   },
   "file_extension": ".py",
   "mimetype": "text/x-python",
   "name": "python",
   "nbconvert_exporter": "python",
   "pygments_lexer": "ipython3",
   "version": "3.12.1"
  },
  "orig_nbformat": 4
 },
 "nbformat": 4,
 "nbformat_minor": 2
}
